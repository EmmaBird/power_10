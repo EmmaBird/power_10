{
 "cells": [
  {
   "cell_type": "markdown",
   "source": "## Power10 Rankings Challenge\n\n> **Start** by hitting the ```Run notebook``` button. If you don't quite get how the data is getting into the dataframe, no problems, this challenge is solely based on ***cleaning*** up Pandas **dataframes**.\n",
   "metadata": {
    "tags": [],
    "cell_id": "00000-3a20586e-07e5-4ab8-a451-62498bffd550",
    "output_cleared": false,
    "deepnote_cell_type": "markdown"
   }
  },
  {
   "cell_type": "code",
   "metadata": {
    "cell_id": "00000-24036894-b972-4c5d-ad3a-7b03dffe0458",
    "output_cleared": false,
    "source_hash": "3733d5f9",
    "execution_millis": 1377,
    "execution_start": 1620383236014,
    "deepnote_to_be_reexecuted": false,
    "deepnote_cell_type": "code"
   },
   "source": "import pandas\n\nurl = \"https://www.thepowerof10.info/rankings/rankinglist.aspx?event=100&agegroup=ALL&sex=W&year=2020\"\n\ndfs = pandas.read_html(url, encoding=\"utf8\") # will return list of all tables within html as Pandas DataFrames\n\nlen(dfs) # pandas has returned 5 possible data tables from HTML Page.\n\ndfs[3] # using browser inspector and by outputting all tables (e.g. dfs[0]) individually, you'll find that the 4th ([3]) table is the table with the data.",
   "execution_count": null,
   "outputs": [
    {
     "output_type": "execute_result",
     "execution_count": 20,
     "data": {
      "application/vnd.deepnote.dataframe.v2+json": {
       "row_count": 470,
       "column_count": 14,
       "columns": [
        {
         "name": 0,
         "dtype": "object",
         "stats": {
          "unique_count": 137,
          "nan_count": 114,
          "categories": [
           {
            "name": "295",
            "count": 11
           },
           {
            "name": "136 others",
            "count": 345
           },
           {
            "name": "Missing",
            "count": 114
           }
          ]
         }
        },
        {
         "name": 1,
         "dtype": "object",
         "stats": {
          "unique_count": 152,
          "nan_count": 0,
          "categories": [
           {
            "name": "13.1",
            "count": 11
           },
           {
            "name": "13.0",
            "count": 10
           },
           {
            "name": "150 others",
            "count": 449
           }
          ]
         }
        },
        {
         "name": 2,
         "dtype": "object",
         "stats": {
          "unique_count": 7,
          "nan_count": 369,
          "categories": [
           {
            "name": "w",
            "count": 95
           },
           {
            "name": "6 others",
            "count": 6
           },
           {
            "name": "Missing",
            "count": 369
           }
          ]
         }
        },
        {
         "name": 3,
         "dtype": "object",
         "stats": {
          "unique_count": 71,
          "nan_count": 38,
          "categories": [
           {
            "name": "0.0",
            "count": 17
           },
           {
            "name": "70 others",
            "count": 415
           },
           {
            "name": "Missing",
            "count": 38
           }
          ]
         }
        },
        {
         "name": 4,
         "dtype": "object",
         "stats": {
          "unique_count": 218,
          "nan_count": 105,
          "categories": [
           {
            "name": "12.83",
            "count": 6
           },
           {
            "name": "217 others",
            "count": 359
           },
           {
            "name": "Missing",
            "count": 105
           }
          ]
         }
        },
        {
         "name": 5,
         "dtype": "object",
         "stats": {
          "unique_count": 7,
          "nan_count": 289,
          "categories": [
           {
            "name": "PB",
            "count": 175
           },
           {
            "name": "6 others",
            "count": 6
           },
           {
            "name": "Missing",
            "count": 289
           }
          ]
         }
        },
        {
         "name": 6,
         "dtype": "object",
         "stats": {
          "unique_count": 365,
          "nan_count": 105,
          "categories": [
           {
            "name": "100 Women Overall 2020 to 13.2 (Auto timed only to 11.99)",
            "count": 1
           },
           {
            "name": "364 others",
            "count": 364
           },
           {
            "name": "Missing",
            "count": 105
           }
          ]
         }
        },
        {
         "name": 7,
         "dtype": "object",
         "stats": {
          "unique_count": 12,
          "nan_count": 140,
          "categories": [
           {
            "name": "U17",
            "count": 114
           },
           {
            "name": "11 others",
            "count": 216
           },
           {
            "name": "Missing",
            "count": 140
           }
          ]
         }
        },
        {
         "name": 8,
         "dtype": "object",
         "stats": {
          "unique_count": 31,
          "nan_count": 106,
          "categories": [
           {
            "name": "-8",
            "count": 57
           },
           {
            "name": "30 others",
            "count": 307
           },
           {
            "name": "Missing",
            "count": 106
           }
          ]
         }
        },
        {
         "name": 9,
         "dtype": "object",
         "stats": {
          "unique_count": 172,
          "nan_count": 221,
          "categories": [
           {
            "name": "Paul Weston",
            "count": 9
           },
           {
            "name": "171 others",
            "count": 240
           },
           {
            "name": "Missing",
            "count": 221
           }
          ]
         }
        },
        {
         "name": 10,
         "dtype": "object",
         "stats": {
          "unique_count": 157,
          "nan_count": 105,
          "categories": [
           {
            "name": "Gateshead",
            "count": 16
           },
           {
            "name": "156 others",
            "count": 349
           },
           {
            "name": "Missing",
            "count": 105
           }
          ]
         }
        },
        {
         "name": 11,
         "dtype": "object",
         "stats": {
          "unique_count": 71,
          "nan_count": 0,
          "categories": [
           {
            "name": "Chelmsford",
            "count": 51
           },
           {
            "name": "Nuneaton",
            "count": 43
           },
           {
            "name": "69 others",
            "count": 376
           }
          ]
         }
        },
        {
         "name": 12,
         "dtype": "object",
         "stats": {
          "unique_count": 57,
          "nan_count": 0,
          "categories": [
           {
            "name": "23 Aug 20",
            "count": 57
           },
           {
            "name": "29 Aug 20",
            "count": 42
           },
           {
            "name": "55 others",
            "count": 371
           }
          ]
         }
        },
        {
         "name": 13,
         "dtype": "object",
         "stats": {
          "unique_count": 6,
          "nan_count": 464,
          "categories": [
           {
            "name": "Head to Head Top 10",
            "count": 1
           },
           {
            "name": "5 others",
            "count": 5
           },
           {
            "name": "Missing",
            "count": 464
           }
          ]
         }
        },
        {
         "name": "_deepnote_index_column",
         "dtype": "int64"
        }
       ],
       "rows_top": [
        {
         "0": "100 Women Overall 2020 to 13.2 (Auto timed only to 11.99)",
         "1": "100 Women Overall 2020 to 13.2 (Auto timed only to 11.99)",
         "2": "100 Women Overall 2020 to 13.2 (Auto timed only to 11.99)",
         "3": "100 Women Overall 2020 to 13.2 (Auto timed only to 11.99)",
         "4": "100 Women Overall 2020 to 13.2 (Auto timed only to 11.99)",
         "5": "100 Women Overall 2020 to 13.2 (Auto timed only to 11.99)",
         "6": "100 Women Overall 2020 to 13.2 (Auto timed only to 11.99)",
         "7": "100 Women Overall 2020 to 13.2 (Auto timed only to 11.99)",
         "8": "100 Women Overall 2020 to 13.2 (Auto timed only to 11.99)",
         "9": "100 Women Overall 2020 to 13.2 (Auto timed only to 11.99)",
         "10": "Head to Head Top 10",
         "11": "Head to Head Top 10",
         "12": "Head to Head Top 10",
         "13": "Head to Head Top 10",
         "_deepnote_index_column": 0
        },
        {
         "0": "Rank",
         "1": "Perf",
         "2": "nan",
         "3": "nan",
         "4": "PB",
         "5": "nan",
         "6": "Name",
         "7": "nan",
         "8": "Year",
         "9": "Coach",
         "10": "Club",
         "11": "Venue",
         "12": "Date",
         "13": "nan",
         "_deepnote_index_column": 1
        },
        {
         "0": "1",
         "1": "11.16",
         "2": "nan",
         "3": "0.1",
         "4": "11.09",
         "5": "nan",
         "6": "Imani Lansiquot",
         "7": "nan",
         "8": "1",
         "9": "Steve Fudge",
         "10": "Sutton & District",
         "11": "Leverkusen, GER",
         "12": "16 Aug 20",
         "13": "nan",
         "_deepnote_index_column": 2
        },
        {
         "0": "2",
         "1": "11.27",
         "2": "nan",
         "3": "0.0",
         "4": "11.16",
         "5": "nan",
         "6": "Kristal Awuah",
         "7": "U23",
         "8": "-2",
         "9": "Matthew Thomas",
         "10": "Herne Hill",
         "11": "Doha, QAT",
         "12": "25 Sep 20",
         "13": "nan",
         "_deepnote_index_column": 3
        },
        {
         "0": "3",
         "1": "11.31",
         "2": "nan",
         "3": "1.3",
         "4": "11.12",
         "5": "nan",
         "6": "Daryll Neita",
         "7": "nan",
         "8": "2",
         "9": "Rana Reider",
         "10": "Cambridge H",
         "11": "Bydgoszcz, POL",
         "12": "19 Aug 20",
         "13": "nan",
         "_deepnote_index_column": 4
        },
        {
         "0": "UK 10 TARGET: 11.35",
         "1": "UK 10 TARGET: 11.35",
         "2": "UK 10 TARGET: 11.35",
         "3": "UK 10 TARGET: 11.35",
         "4": "UK 10 TARGET: 11.35",
         "5": "UK 10 TARGET: 11.35",
         "6": "UK 10 TARGET: 11.35",
         "7": "UK 10 TARGET: 11.35",
         "8": "UK 10 TARGET: 11.35",
         "9": "UK 10 TARGET: 11.35",
         "10": "UK 10 TARGET: 11.35",
         "11": "UK 10 TARGET: 11.35",
         "12": "UK 10 TARGET: 11.35",
         "13": "UK 10 TARGET: 11.35",
         "_deepnote_index_column": 5
        },
        {
         "0": "4",
         "1": "11.39",
         "2": "nan",
         "3": "1.8",
         "4": "11.31",
         "5": "nan",
         "6": "Amy Hunt",
         "7": "U20",
         "8": "-5",
         "9": "Joseph McDonnell ☘️",
         "10": "Charnwood",
         "11": "Göteborg, SWE",
         "12": "29 Aug 20",
         "13": "nan",
         "_deepnote_index_column": 6
        },
        {
         "0": "nan",
         "1": "11.35",
         "2": "w",
         "3": "2.1",
         "4": "nan",
         "5": "nan",
         "6": "nan",
         "7": "nan",
         "8": "nan",
         "9": "nan",
         "10": "nan",
         "11": "Sportcity",
         "12": "4 Sep 20",
         "13": "nan",
         "_deepnote_index_column": 7
        },
        {
         "0": "5",
         "1": "11.71",
         "2": "nan",
         "3": "1.1",
         "4": "11.71",
         "5": "PB",
         "6": "Nia Wedderburn-Goodison",
         "7": "U17",
         "8": "-8",
         "9": "nan",
         "10": "Harrow",
         "11": "Dagenham",
         "12": "23 Aug 20",
         "13": "nan",
         "_deepnote_index_column": 8
        },
        {
         "0": "nan",
         "1": "11.60",
         "2": "w",
         "3": "3.2",
         "4": "nan",
         "5": "nan",
         "6": "nan",
         "7": "nan",
         "8": "nan",
         "9": "nan",
         "10": "nan",
         "11": "Dagenham",
         "12": "23 Aug 20",
         "13": "nan",
         "_deepnote_index_column": 9
        },
        {
         "0": "6",
         "1": "11.72",
         "2": "nan",
         "3": "2.0",
         "4": "11.72",
         "5": "PB",
         "6": "Cheyanne Evans-Gray",
         "7": "U23",
         "8": "-1",
         "9": "Paul Weston",
         "10": "Croydon",
         "11": "Stratford",
         "12": "6 Sep 20",
         "13": "nan",
         "_deepnote_index_column": 10
        },
        {
         "0": "nan",
         "1": "11.64",
         "2": "w",
         "3": "2.9",
         "4": "nan",
         "5": "nan",
         "6": "nan",
         "7": "nan",
         "8": "nan",
         "9": "nan",
         "10": "nan",
         "11": "Chelmsford",
         "12": "30 Aug 20",
         "13": "nan",
         "_deepnote_index_column": 11
        },
        {
         "0": "7",
         "1": "11.74",
         "2": "nan",
         "3": "0.0",
         "4": "11.39",
         "5": "nan",
         "6": "Cindy Sember",
         "7": "nan",
         "8": "4",
         "9": "nan",
         "10": "Woodford Green Essex Ladies",
         "11": "Doha, QAT",
         "12": "25 Sep 20",
         "13": "nan",
         "_deepnote_index_column": 12
        },
        {
         "0": "8",
         "1": "11.80",
         "2": "nan",
         "3": "1.9",
         "4": "11.80",
         "5": "PB",
         "6": "Success Eduan",
         "7": "U17",
         "8": "-7",
         "9": "Anita Richardson",
         "10": "Sale Harriers Manchester",
         "11": "Stretford",
         "12": "15 Aug 20",
         "13": "nan",
         "_deepnote_index_column": 13
        },
        {
         "0": "9",
         "1": "11.81",
         "2": "nan",
         "3": "-2.5",
         "4": "11.81",
         "5": "PB",
         "6": "Aleeya Sibbons",
         "7": "U20",
         "8": "-5",
         "9": "Coral Nourrice",
         "10": "Newham & Essex Beagles",
         "11": "Chelmsford",
         "12": "30 Aug 20",
         "13": "nan",
         "_deepnote_index_column": 14
        },
        {
         "0": "nan",
         "1": "11.67",
         "2": "w",
         "3": "2.9",
         "4": "nan",
         "5": "nan",
         "6": "nan",
         "7": "nan",
         "8": "nan",
         "9": "nan",
         "10": "nan",
         "11": "Dagenham",
         "12": "23 Aug 20",
         "13": "nan",
         "_deepnote_index_column": 15
        },
        {
         "0": "10",
         "1": "11.82",
         "2": "nan",
         "3": "0.3",
         "4": "11.82",
         "5": "PB",
         "6": "Nicola Caygill",
         "7": "U23",
         "8": "-3",
         "9": "nan",
         "10": "Jarrow & Hebburn",
         "11": "Sportcity",
         "12": "4 Sep 20",
         "13": "nan",
         "_deepnote_index_column": 16
        },
        {
         "0": "nan",
         "1": "11.80",
         "2": "w",
         "3": "2.1",
         "4": "nan",
         "5": "nan",
         "6": "nan",
         "7": "nan",
         "8": "nan",
         "9": "nan",
         "10": "nan",
         "11": "Sportcity",
         "12": "4 Sep 20",
         "13": "nan",
         "_deepnote_index_column": 17
        },
        {
         "0": "11",
         "1": "11.83",
         "2": "nan",
         "3": "-0.9",
         "4": "11.63",
         "5": "nan",
         "6": "Risqat Fabunmi-Alade",
         "7": "nan",
         "8": "4",
         "9": "Piotr Spas",
         "10": "Swansea",
         "11": "Tooting Bec",
         "12": "22 Aug 20",
         "13": "nan",
         "_deepnote_index_column": 18
        },
        {
         "0": "nan",
         "1": "11.67",
         "2": "w",
         "3": "2.8",
         "4": "nan",
         "5": "nan",
         "6": "nan",
         "7": "nan",
         "8": "nan",
         "9": "nan",
         "10": "nan",
         "11": "Chelmsford",
         "12": "30 Aug 20",
         "13": "nan",
         "_deepnote_index_column": 19
        },
        {
         "0": "12",
         "1": "11.85",
         "2": "nan",
         "3": "-0.3",
         "4": "11.85",
         "5": "PB",
         "6": "Rebecca Jeggo",
         "7": "U23",
         "8": "-3",
         "9": "Stephen Garnham",
         "10": "Colchester H",
         "11": "Sportcity",
         "12": "4 Sep 20",
         "13": "nan",
         "_deepnote_index_column": 20
        },
        {
         "0": "nan",
         "1": "11.67",
         "2": "w",
         "3": "2.5",
         "4": "nan",
         "5": "nan",
         "6": "nan",
         "7": "nan",
         "8": "nan",
         "9": "nan",
         "10": "nan",
         "11": "Chelmsford",
         "12": "19 Aug 20",
         "13": "nan",
         "_deepnote_index_column": 21
        },
        {
         "0": "13",
         "1": "11.88",
         "2": "nan",
         "3": "0.2",
         "4": "11.88",
         "5": "PB",
         "6": "Caitlyn Mapps",
         "7": "U20",
         "8": "-5",
         "9": "Phillip Warwicker",
         "10": "Cardiff Archers",
         "11": "Nuneaton",
         "12": "19 Aug 20",
         "13": "nan",
         "_deepnote_index_column": 22
        },
        {
         "0": "13",
         "1": "11.88",
         "2": "nan",
         "3": "-0.3",
         "4": "11.84",
         "5": "nan",
         "6": "Trinity Powell",
         "7": "U20",
         "8": "-5",
         "9": "Kes Salmon",
         "10": "Manchester H",
         "11": "Sportcity",
         "12": "4 Sep 20",
         "13": "nan",
         "_deepnote_index_column": 23
        },
        {
         "0": "nan",
         "1": "11.80",
         "2": "w",
         "3": "2.1",
         "4": "nan",
         "5": "nan",
         "6": "nan",
         "7": "nan",
         "8": "nan",
         "9": "nan",
         "10": "nan",
         "11": "Sportcity",
         "12": "4 Sep 20",
         "13": "nan",
         "_deepnote_index_column": 24
        },
        {
         "0": "15",
         "1": "11.90",
         "2": "nan",
         "3": "1.3",
         "4": "11.90",
         "5": "PB",
         "6": "Eve Wright",
         "7": "U20",
         "8": "-5",
         "9": "Ryan Freckleton",
         "10": "Enfield & Haringey",
         "11": "Stratford",
         "12": "6 Sep 20",
         "13": "nan",
         "_deepnote_index_column": 25
        },
        {
         "0": "nan",
         "1": "11.87",
         "2": "w",
         "3": "3.1",
         "4": "nan",
         "5": "nan",
         "6": "nan",
         "7": "nan",
         "8": "nan",
         "9": "nan",
         "10": "nan",
         "11": "Chelmsford",
         "12": "30 Aug 20",
         "13": "nan",
         "_deepnote_index_column": 26
        },
        {
         "0": "16",
         "1": "11.92",
         "2": "nan",
         "3": "-2.5",
         "4": "11.92",
         "5": "PB",
         "6": "Ayoola Babalola",
         "7": "U20",
         "8": "-4",
         "9": "nan",
         "10": "Windsor Slough Eton & Hounslow",
         "11": "Chelmsford",
         "12": "30 Aug 20",
         "13": "nan",
         "_deepnote_index_column": 27
        },
        {
         "0": "nan",
         "1": "11.90",
         "2": "w",
         "3": "3.1",
         "4": "nan",
         "5": "nan",
         "6": "nan",
         "7": "nan",
         "8": "nan",
         "9": "nan",
         "10": "nan",
         "11": "Chelmsford",
         "12": "30 Aug 20",
         "13": "nan",
         "_deepnote_index_column": 28
        },
        {
         "0": "17",
         "1": "11.95",
         "2": "nan",
         "3": "1.8",
         "4": "11.95",
         "5": "PB",
         "6": "Rebecca Chapman",
         "7": "nan",
         "8": "6",
         "9": "nan",
         "10": "Cardiff",
         "11": "Marsa, MLT",
         "12": "18 Jul 20",
         "13": "nan",
         "_deepnote_index_column": 29
        },
        {
         "0": "18",
         "1": "11.96",
         "2": "nan",
         "3": "0.2",
         "4": "11.64",
         "5": "nan",
         "6": "Mica Moore",
         "7": "nan",
         "8": "6",
         "9": "Lawrence Moore",
         "10": "Birchfield H",
         "11": "Swansea",
         "12": "16 Aug 20",
         "13": "nan",
         "_deepnote_index_column": 30
        },
        {
         "0": "nan",
         "1": "11.83",
         "2": "w",
         "3": "3.3",
         "4": "nan",
         "5": "nan",
         "6": "nan",
         "7": "nan",
         "8": "nan",
         "9": "nan",
         "10": "nan",
         "11": "Nuneaton",
         "12": "23 Aug 20",
         "13": "nan",
         "_deepnote_index_column": 31
        },
        {
         "0": "18",
         "1": "11.96",
         "2": "nan",
         "3": "0.5",
         "4": "11.96",
         "5": "PB",
         "6": "Racheal Largie-Poleon",
         "7": "U20",
         "8": "-6",
         "9": "Paul Weston",
         "10": "Croydon",
         "11": "Chelmsford",
         "12": "30 Aug 20",
         "13": "nan",
         "_deepnote_index_column": 32
        },
        {
         "0": "nan",
         "1": "11.74",
         "2": "w",
         "3": "3.1",
         "4": "nan",
         "5": "nan",
         "6": "nan",
         "7": "nan",
         "8": "nan",
         "9": "nan",
         "10": "nan",
         "11": "Chelmsford",
         "12": "30 Aug 20",
         "13": "nan",
         "_deepnote_index_column": 33
        },
        {
         "0": "20",
         "1": "11.99",
         "2": "nan",
         "3": "-0.6",
         "4": "11.90",
         "5": "nan",
         "6": "Alyson Bell",
         "7": "U17",
         "8": "-6",
         "9": "nan",
         "10": "Giffnock North",
         "11": "Sportcity",
         "12": "4 Sep 20",
         "13": "nan",
         "_deepnote_index_column": 34
        }
       ],
       "rows_bottom": [
        {
         "0": "324",
         "1": "13.17",
         "2": "nan",
         "3": "0.5",
         "4": "13.17/13.1",
         "5": "PB",
         "6": "Lucy Odell",
         "7": "U20",
         "8": "-6",
         "9": "Katy Odell",
         "10": "Reading AC",
         "11": "Chelmsford",
         "12": "30 Aug 20",
         "13": "nan",
         "_deepnote_index_column": 434
        },
        {
         "0": "324",
         "1": "13.17",
         "2": "nan",
         "3": "-0.4",
         "4": "13.17",
         "5": "PB",
         "6": "Zara Okoroafor",
         "7": "U15",
         "8": "-10",
         "9": "nan",
         "10": "Dartford H",
         "11": "Dartford",
         "12": "12 Sep 20",
         "13": "nan",
         "_deepnote_index_column": 435
        },
        {
         "0": "329",
         "1": "13.18",
         "2": "nan",
         "3": "1.4",
         "4": "13.18",
         "5": "PB",
         "6": "Rebecca Littler",
         "7": "U15",
         "8": "-9",
         "9": "nan",
         "10": "Rugby & Northampton",
         "11": "Nuneaton",
         "12": "19 Jul 20",
         "13": "nan",
         "_deepnote_index_column": 436
        },
        {
         "0": "329",
         "1": "13.18",
         "2": "nan",
         "3": "-0.2",
         "4": "13.18",
         "5": "PB",
         "6": "Rebeccah Akinsanya",
         "7": "U15",
         "8": "-10",
         "9": "Amanda Edgley",
         "10": "Medway & Maidstone",
         "11": "Bromley",
         "12": "22 Aug 20",
         "13": "nan",
         "_deepnote_index_column": 437
        },
        {
         "0": "nan",
         "1": "13.06",
         "2": "w",
         "3": "2.9",
         "4": "nan",
         "5": "nan",
         "6": "nan",
         "7": "nan",
         "8": "nan",
         "9": "nan",
         "10": "nan",
         "11": "Dagenham",
         "12": "23 Aug 20",
         "13": "nan",
         "_deepnote_index_column": 438
        },
        {
         "0": "331",
         "1": "13.19",
         "2": "nan",
         "3": "nan",
         "4": "13.18",
         "5": "nan",
         "6": "Semi Atiba",
         "7": "U17",
         "8": "-7",
         "9": "Ty Holden",
         "10": "Shaftesbury Barnet",
         "11": "Lee Valley",
         "12": "1 Aug 20",
         "13": "nan",
         "_deepnote_index_column": 439
        },
        {
         "0": "331",
         "1": "13.19",
         "2": "nan",
         "3": "0.7",
         "4": "13.19",
         "5": "PB",
         "6": "Laura Bate",
         "7": "U17",
         "8": "-7",
         "9": "nan",
         "10": "Saffron AC",
         "11": "Nuneaton",
         "12": "19 Aug 20",
         "13": "nan",
         "_deepnote_index_column": 440
        },
        {
         "0": "331",
         "1": "13.19",
         "2": "nan",
         "3": "1.0",
         "4": "13.19",
         "5": "PB",
         "6": "Nadine Starling",
         "7": "U20",
         "8": "-6",
         "9": "Brian Darby",
         "10": "Coventry",
         "11": "Nuneaton",
         "12": "19 Aug 20",
         "13": "nan",
         "_deepnote_index_column": 441
        },
        {
         "0": "331",
         "1": "13.19",
         "2": "nan",
         "3": "1.2",
         "4": "13.19",
         "5": "PB",
         "6": "Matilda May Perry",
         "7": "U15",
         "8": "-9",
         "9": "nan",
         "10": "Cannock & Stafford",
         "11": "Loughborough",
         "12": "9 Sep 20",
         "13": "nan",
         "_deepnote_index_column": 442
        },
        {
         "0": "335",
         "1": "13.20",
         "2": "nan",
         "3": "-2.2",
         "4": "12.93",
         "5": "nan",
         "6": "Chimira Matthews",
         "7": "U17",
         "8": "-7",
         "9": "nan",
         "10": "Ealing Southall & Middx",
         "11": "Lee Valley",
         "12": "1 Aug 20",
         "13": "nan",
         "_deepnote_index_column": 443
        },
        {
         "0": "335",
         "1": "13.20",
         "2": "nan",
         "3": "-2.1",
         "4": "13.20/13.1",
         "5": "PB",
         "6": "Charlotte Gambardella",
         "7": "U17",
         "8": "-7",
         "9": "nan",
         "10": "Saffron AC",
         "11": "Nuneaton",
         "12": "19 Aug 20",
         "13": "nan",
         "_deepnote_index_column": 444
        },
        {
         "0": "335",
         "1": "13.20",
         "2": "nan",
         "3": "-0.4",
         "4": "13.09/12.8",
         "5": "nan",
         "6": "Gabrielle Kirkham",
         "7": "U20",
         "8": "-5",
         "9": "nan",
         "10": "Andover",
         "11": "Chelmsford",
         "12": "30 Aug 20",
         "13": "nan",
         "_deepnote_index_column": 445
        },
        {
         "0": "335",
         "1": "13.20",
         "2": "nan",
         "3": "1.1",
         "4": "13.20",
         "5": "PB",
         "6": "Kate Smith",
         "7": "U17",
         "8": "-6",
         "9": "nan",
         "10": "Tynedale",
         "11": "Hexham",
         "12": "30 Aug 20",
         "13": "nan",
         "_deepnote_index_column": 446
        },
        {
         "0": "335",
         "1": "13.20",
         "2": "nan",
         "3": "0.4",
         "4": "12.59",
         "5": "nan",
         "6": "Sophie Wallwork",
         "7": "U17",
         "8": "-8",
         "9": "Dave Combe",
         "10": "Pitreavie",
         "11": "Meadowmill",
         "12": "13 Sep 20",
         "13": "nan",
         "_deepnote_index_column": 447
        },
        {
         "0": "nan",
         "1": "12.75",
         "2": "w",
         "3": "3.0",
         "4": "nan",
         "5": "nan",
         "6": "nan",
         "7": "nan",
         "8": "nan",
         "9": "nan",
         "10": "nan",
         "11": "Aberdeen",
         "12": "6 Sep 20",
         "13": "nan",
         "_deepnote_index_column": 448
        },
        {
         "0": "340",
         "1": "13.2",
         "2": "nan",
         "3": "nan",
         "4": "13.15",
         "5": "nan",
         "6": "Rebecca Ousby",
         "7": "U23",
         "8": "-3",
         "9": "Julie Alexander",
         "10": "Team Bath",
         "11": "Lancaster",
         "12": "7 Mar 20",
         "13": "nan",
         "_deepnote_index_column": 449
        },
        {
         "0": "340",
         "1": "13.2",
         "2": "nan",
         "3": "1.9",
         "4": "13.31/13.2",
         "5": "PB",
         "6": "Katie Le Rougetel",
         "7": "U17",
         "8": "-7",
         "9": "nan",
         "10": "Jersey",
         "11": "St. Clement",
         "12": "7 Jul 20",
         "13": "nan",
         "_deepnote_index_column": 450
        },
        {
         "0": "340",
         "1": "13.2",
         "2": "nan",
         "3": "nan",
         "4": "13.2",
         "5": "PB",
         "6": "Amy Lott",
         "7": "U17",
         "8": "-6",
         "9": "David Thomas",
         "10": "Morpeth",
         "11": "Morpeth",
         "12": "8 Aug 20",
         "13": "nan",
         "_deepnote_index_column": 451
        },
        {
         "0": "340",
         "1": "13.2",
         "2": "nan",
         "3": "1.3",
         "4": "13.04/12.8",
         "5": "nan",
         "6": "Keira Gilman",
         "7": "U17",
         "8": "-6",
         "9": "David Clay",
         "10": "Peterborough & Nene Valley",
         "11": "Norwich",
         "12": "15 Aug 20",
         "13": "nan",
         "_deepnote_index_column": 452
        },
        {
         "0": "340",
         "1": "13.2",
         "2": "nan",
         "3": "nan",
         "4": "13.50/13.2",
         "5": "PB",
         "6": "Ogechuwu Nzekwe",
         "7": "U15",
         "8": "-8",
         "9": "Karl Sumun",
         "10": "Thurrock",
         "11": "Grays",
         "12": "12 Sep 20",
         "13": "nan",
         "_deepnote_index_column": 453
        },
        {
         "0": "340",
         "1": "13.2",
         "2": "nan",
         "3": "nan",
         "4": "13.2",
         "5": "PB",
         "6": "Sophia-Reid Thomas",
         "7": "U15",
         "8": "nan",
         "9": "nan",
         "10": "Carmarthen",
         "11": "Whitehall",
         "12": "12 Sep 20",
         "13": "nan",
         "_deepnote_index_column": 454
        },
        {
         "0": "340",
         "1": "13.2",
         "2": "nan",
         "3": "1.5",
         "4": "13.92/13.2",
         "5": "PB",
         "6": "Kate Richardson",
         "7": "U15",
         "8": "-9",
         "9": "nan",
         "10": "Pitreavie",
         "11": "Dunfermline",
         "12": "20 Sep 20",
         "13": "nan",
         "_deepnote_index_column": 455
        },
        {
         "0": "340",
         "1": "13.2",
         "2": "nan",
         "3": "0.8",
         "4": "13.84/13.2",
         "5": "PB",
         "6": "Lynn Harvey",
         "7": "U20",
         "8": "-6",
         "9": "nan",
         "10": "Pitreavie",
         "11": "Dunfermline",
         "12": "20 Sep 20",
         "13": "nan",
         "_deepnote_index_column": 456
        },
        {
         "0": "340",
         "1": "13.2",
         "2": "nan",
         "3": "nan",
         "4": "13.12/12.6",
         "5": "nan",
         "6": "Zoe Payne",
         "7": "U17",
         "8": "-8",
         "9": "Alan Wymant",
         "10": "Corby",
         "11": "Corby",
         "12": "22 Sep 20",
         "13": "nan",
         "_deepnote_index_column": 457
        },
        {
         "0": "340",
         "1": "13.2",
         "2": "nan",
         "3": "0.0",
         "4": "12.83",
         "5": "nan",
         "6": "Eva Tyler",
         "7": "U15",
         "8": "-8",
         "9": "nan",
         "10": "Hereford",
         "11": "Sutton Coldfield",
         "12": "17 Oct 20",
         "13": "nan",
         "_deepnote_index_column": 458
        },
        {
         "0": "Resident Non UK Athletes",
         "1": "Resident Non UK Athletes",
         "2": "Resident Non UK Athletes",
         "3": "Resident Non UK Athletes",
         "4": "Resident Non UK Athletes",
         "5": "Resident Non UK Athletes",
         "6": "Resident Non UK Athletes",
         "7": "Resident Non UK Athletes",
         "8": "Resident Non UK Athletes",
         "9": "Resident Non UK Athletes",
         "10": "Resident Non UK Athletes",
         "11": "Resident Non UK Athletes",
         "12": "Resident Non UK Athletes",
         "13": "Resident Non UK Athletes",
         "_deepnote_index_column": 459
        },
        {
         "0": "nan",
         "1": "11.98",
         "2": "nan",
         "3": "-1.7",
         "4": "11.92",
         "5": "nan",
         "6": "Lauren Roy",
         "7": "U23",
         "8": "-3",
         "9": "Adam McMullen",
         "10": "City of Lisburn",
         "11": "Dublin (S), IRL",
         "12": "23 Aug 20",
         "13": "nan",
         "_deepnote_index_column": 460
        },
        {
         "0": "nan",
         "1": "12.19",
         "2": "nan",
         "3": "1.8",
         "4": "11.54",
         "5": "nan",
         "6": "Charlotte Wingfield",
         "7": "nan",
         "8": "4",
         "9": "nan",
         "10": "Cardiff",
         "11": "Marsa, MLT",
         "12": "18 Jul 20",
         "13": "nan",
         "_deepnote_index_column": 461
        },
        {
         "0": "nan",
         "1": "12.29",
         "2": "nan",
         "3": "-0.3",
         "4": "12.10",
         "5": "nan",
         "6": "Jenna Breen",
         "7": "U17",
         "8": "-7",
         "9": "nan",
         "10": "City of Lisburn",
         "11": "Belfast",
         "12": "30 Jul 20",
         "13": "nan",
         "_deepnote_index_column": 462
        },
        {
         "0": "nan",
         "1": "12.55",
         "2": "nan",
         "3": "-0.8",
         "4": "12.55",
         "5": "PB",
         "6": "Lauren Brzozowski",
         "7": "nan",
         "8": "1",
         "9": "nan",
         "10": "Loughborough Students",
         "11": "Nuneaton",
         "12": "30 Aug 20",
         "13": "nan",
         "_deepnote_index_column": 463
        },
        {
         "0": "nan",
         "1": "12.61",
         "2": "nan",
         "3": "-1.9",
         "4": "12.20",
         "5": "nan",
         "6": "Anna McCauley",
         "7": "U20",
         "8": "-4",
         "9": "Antonio Minichiello",
         "10": "City of Lisburn",
         "11": "Belfast",
         "12": "13 Aug 20",
         "13": "nan",
         "_deepnote_index_column": 464
        },
        {
         "0": "nan",
         "1": "12.70",
         "2": "nan",
         "3": "-0.7",
         "4": "12.70/12.6",
         "5": "PB",
         "6": "Noa Maoundus",
         "7": "U17",
         "8": "-7",
         "9": "Paul McKeown",
         "10": "Crawley",
         "11": "Crawley",
         "12": "13 Sep 20",
         "13": "nan",
         "_deepnote_index_column": 465
        },
        {
         "0": "nan",
         "1": "12.74",
         "2": "nan",
         "3": "-0.5",
         "4": "12.23",
         "5": "nan",
         "6": "Praise Owoeye",
         "7": "U20",
         "8": "-6",
         "9": "Anita Richardson",
         "10": "Sale Harriers Manchester",
         "11": "Stretford",
         "12": "29 Aug 20",
         "13": "nan",
         "_deepnote_index_column": 466
        },
        {
         "0": "nan",
         "1": "12.71",
         "2": "w",
         "3": "2.1",
         "4": "nan",
         "5": "nan",
         "6": "nan",
         "7": "nan",
         "8": "nan",
         "9": "nan",
         "10": "nan",
         "11": "Stretford",
         "12": "15 Aug 20",
         "13": "nan",
         "_deepnote_index_column": 467
        },
        {
         "0": "nan",
         "1": "12.75",
         "2": "nan",
         "3": "0.0",
         "4": "12.52/12.5",
         "5": "nan",
         "6": "Synne Frydenlund",
         "7": "nan",
         "8": "1",
         "9": "nan",
         "10": "Harrow",
         "11": "Worthing",
         "12": "11 Aug 20",
         "13": "nan",
         "_deepnote_index_column": 468
        },
        {
         "0": "nan",
         "1": "12.9",
         "2": "nan",
         "3": "-0.7",
         "4": "13.06/12.8",
         "5": "nan",
         "6": "Chiara Ramponi",
         "7": "U23",
         "8": "-2",
         "9": "Iheanyi Ihediwa",
         "10": "Trafford",
         "11": "Stretford",
         "12": "1 Aug 20",
         "13": "nan",
         "_deepnote_index_column": 469
        }
       ]
      },
      "text/plain": "                                                    0   \\\n0    100 Women Overall 2020 to 13.2 (Auto timed onl...   \n1                                                 Rank   \n2                                                    1   \n3                                                    2   \n4                                                    3   \n..                                                 ...   \n465                                                NaN   \n466                                                NaN   \n467                                                NaN   \n468                                                NaN   \n469                                                NaN   \n\n                                                    1   \\\n0    100 Women Overall 2020 to 13.2 (Auto timed onl...   \n1                                                 Perf   \n2                                                11.16   \n3                                                11.27   \n4                                                11.31   \n..                                                 ...   \n465                                              12.70   \n466                                              12.74   \n467                                              12.71   \n468                                              12.75   \n469                                               12.9   \n\n                                                    2   \\\n0    100 Women Overall 2020 to 13.2 (Auto timed onl...   \n1                                                  NaN   \n2                                                  NaN   \n3                                                  NaN   \n4                                                  NaN   \n..                                                 ...   \n465                                                NaN   \n466                                                NaN   \n467                                                  w   \n468                                                NaN   \n469                                                NaN   \n\n                                                    3   \\\n0    100 Women Overall 2020 to 13.2 (Auto timed onl...   \n1                                                  NaN   \n2                                                  0.1   \n3                                                  0.0   \n4                                                  1.3   \n..                                                 ...   \n465                                               -0.7   \n466                                               -0.5   \n467                                                2.1   \n468                                                0.0   \n469                                               -0.7   \n\n                                                    4   \\\n0    100 Women Overall 2020 to 13.2 (Auto timed onl...   \n1                                                   PB   \n2                                                11.09   \n3                                                11.16   \n4                                                11.12   \n..                                                 ...   \n465                                         12.70/12.6   \n466                                              12.23   \n467                                                NaN   \n468                                         12.52/12.5   \n469                                         13.06/12.8   \n\n                                                    5   \\\n0    100 Women Overall 2020 to 13.2 (Auto timed onl...   \n1                                                  NaN   \n2                                                  NaN   \n3                                                  NaN   \n4                                                  NaN   \n..                                                 ...   \n465                                                 PB   \n466                                                NaN   \n467                                                NaN   \n468                                                NaN   \n469                                                NaN   \n\n                                                    6   \\\n0    100 Women Overall 2020 to 13.2 (Auto timed onl...   \n1                                                 Name   \n2                                      Imani Lansiquot   \n3                                        Kristal Awuah   \n4                                         Daryll Neita   \n..                                                 ...   \n465                                       Noa Maoundus   \n466                                      Praise Owoeye   \n467                                                NaN   \n468                                   Synne Frydenlund   \n469                                     Chiara Ramponi   \n\n                                                    7   \\\n0    100 Women Overall 2020 to 13.2 (Auto timed onl...   \n1                                                  NaN   \n2                                                  NaN   \n3                                                  U23   \n4                                                  NaN   \n..                                                 ...   \n465                                                U17   \n466                                                U20   \n467                                                NaN   \n468                                                NaN   \n469                                                U23   \n\n                                                    8   \\\n0    100 Women Overall 2020 to 13.2 (Auto timed onl...   \n1                                                 Year   \n2                                                    1   \n3                                                   -2   \n4                                                    2   \n..                                                 ...   \n465                                                 -7   \n466                                                 -6   \n467                                                NaN   \n468                                                  1   \n469                                                 -2   \n\n                                                    9   \\\n0    100 Women Overall 2020 to 13.2 (Auto timed onl...   \n1                                                Coach   \n2                                          Steve Fudge   \n3                                       Matthew Thomas   \n4                                          Rana Reider   \n..                                                 ...   \n465                                       Paul McKeown   \n466                                   Anita Richardson   \n467                                                NaN   \n468                                                NaN   \n469                                    Iheanyi Ihediwa   \n\n                           10                   11                   12  \\\n0         Head to Head Top 10  Head to Head Top 10  Head to Head Top 10   \n1                        Club                Venue                 Date   \n2           Sutton & District      Leverkusen, GER            16 Aug 20   \n3                  Herne Hill            Doha, QAT            25 Sep 20   \n4                 Cambridge H       Bydgoszcz, POL            19 Aug 20   \n..                        ...                  ...                  ...   \n465                   Crawley              Crawley            13 Sep 20   \n466  Sale Harriers Manchester            Stretford            29 Aug 20   \n467                       NaN            Stretford            15 Aug 20   \n468                    Harrow             Worthing            11 Aug 20   \n469                  Trafford            Stretford             1 Aug 20   \n\n                      13  \n0    Head to Head Top 10  \n1                    NaN  \n2                    NaN  \n3                    NaN  \n4                    NaN  \n..                   ...  \n465                  NaN  \n466                  NaN  \n467                  NaN  \n468                  NaN  \n469                  NaN  \n\n[470 rows x 14 columns]",
      "text/html": "<div>\n<style scoped>\n    .dataframe tbody tr th:only-of-type {\n        vertical-align: middle;\n    }\n\n    .dataframe tbody tr th {\n        vertical-align: top;\n    }\n\n    .dataframe thead th {\n        text-align: right;\n    }\n</style>\n<table border=\"1\" class=\"dataframe\">\n  <thead>\n    <tr style=\"text-align: right;\">\n      <th></th>\n      <th>0</th>\n      <th>1</th>\n      <th>2</th>\n      <th>3</th>\n      <th>4</th>\n      <th>5</th>\n      <th>6</th>\n      <th>7</th>\n      <th>8</th>\n      <th>9</th>\n      <th>10</th>\n      <th>11</th>\n      <th>12</th>\n      <th>13</th>\n    </tr>\n  </thead>\n  <tbody>\n    <tr>\n      <th>0</th>\n      <td>100 Women Overall 2020 to 13.2 (Auto timed onl...</td>\n      <td>100 Women Overall 2020 to 13.2 (Auto timed onl...</td>\n      <td>100 Women Overall 2020 to 13.2 (Auto timed onl...</td>\n      <td>100 Women Overall 2020 to 13.2 (Auto timed onl...</td>\n      <td>100 Women Overall 2020 to 13.2 (Auto timed onl...</td>\n      <td>100 Women Overall 2020 to 13.2 (Auto timed onl...</td>\n      <td>100 Women Overall 2020 to 13.2 (Auto timed onl...</td>\n      <td>100 Women Overall 2020 to 13.2 (Auto timed onl...</td>\n      <td>100 Women Overall 2020 to 13.2 (Auto timed onl...</td>\n      <td>100 Women Overall 2020 to 13.2 (Auto timed onl...</td>\n      <td>Head to Head Top 10</td>\n      <td>Head to Head Top 10</td>\n      <td>Head to Head Top 10</td>\n      <td>Head to Head Top 10</td>\n    </tr>\n    <tr>\n      <th>1</th>\n      <td>Rank</td>\n      <td>Perf</td>\n      <td>NaN</td>\n      <td>NaN</td>\n      <td>PB</td>\n      <td>NaN</td>\n      <td>Name</td>\n      <td>NaN</td>\n      <td>Year</td>\n      <td>Coach</td>\n      <td>Club</td>\n      <td>Venue</td>\n      <td>Date</td>\n      <td>NaN</td>\n    </tr>\n    <tr>\n      <th>2</th>\n      <td>1</td>\n      <td>11.16</td>\n      <td>NaN</td>\n      <td>0.1</td>\n      <td>11.09</td>\n      <td>NaN</td>\n      <td>Imani Lansiquot</td>\n      <td>NaN</td>\n      <td>1</td>\n      <td>Steve Fudge</td>\n      <td>Sutton &amp; District</td>\n      <td>Leverkusen, GER</td>\n      <td>16 Aug 20</td>\n      <td>NaN</td>\n    </tr>\n    <tr>\n      <th>3</th>\n      <td>2</td>\n      <td>11.27</td>\n      <td>NaN</td>\n      <td>0.0</td>\n      <td>11.16</td>\n      <td>NaN</td>\n      <td>Kristal Awuah</td>\n      <td>U23</td>\n      <td>-2</td>\n      <td>Matthew Thomas</td>\n      <td>Herne Hill</td>\n      <td>Doha, QAT</td>\n      <td>25 Sep 20</td>\n      <td>NaN</td>\n    </tr>\n    <tr>\n      <th>4</th>\n      <td>3</td>\n      <td>11.31</td>\n      <td>NaN</td>\n      <td>1.3</td>\n      <td>11.12</td>\n      <td>NaN</td>\n      <td>Daryll Neita</td>\n      <td>NaN</td>\n      <td>2</td>\n      <td>Rana Reider</td>\n      <td>Cambridge H</td>\n      <td>Bydgoszcz, POL</td>\n      <td>19 Aug 20</td>\n      <td>NaN</td>\n    </tr>\n    <tr>\n      <th>...</th>\n      <td>...</td>\n      <td>...</td>\n      <td>...</td>\n      <td>...</td>\n      <td>...</td>\n      <td>...</td>\n      <td>...</td>\n      <td>...</td>\n      <td>...</td>\n      <td>...</td>\n      <td>...</td>\n      <td>...</td>\n      <td>...</td>\n      <td>...</td>\n    </tr>\n    <tr>\n      <th>465</th>\n      <td>NaN</td>\n      <td>12.70</td>\n      <td>NaN</td>\n      <td>-0.7</td>\n      <td>12.70/12.6</td>\n      <td>PB</td>\n      <td>Noa Maoundus</td>\n      <td>U17</td>\n      <td>-7</td>\n      <td>Paul McKeown</td>\n      <td>Crawley</td>\n      <td>Crawley</td>\n      <td>13 Sep 20</td>\n      <td>NaN</td>\n    </tr>\n    <tr>\n      <th>466</th>\n      <td>NaN</td>\n      <td>12.74</td>\n      <td>NaN</td>\n      <td>-0.5</td>\n      <td>12.23</td>\n      <td>NaN</td>\n      <td>Praise Owoeye</td>\n      <td>U20</td>\n      <td>-6</td>\n      <td>Anita Richardson</td>\n      <td>Sale Harriers Manchester</td>\n      <td>Stretford</td>\n      <td>29 Aug 20</td>\n      <td>NaN</td>\n    </tr>\n    <tr>\n      <th>467</th>\n      <td>NaN</td>\n      <td>12.71</td>\n      <td>w</td>\n      <td>2.1</td>\n      <td>NaN</td>\n      <td>NaN</td>\n      <td>NaN</td>\n      <td>NaN</td>\n      <td>NaN</td>\n      <td>NaN</td>\n      <td>NaN</td>\n      <td>Stretford</td>\n      <td>15 Aug 20</td>\n      <td>NaN</td>\n    </tr>\n    <tr>\n      <th>468</th>\n      <td>NaN</td>\n      <td>12.75</td>\n      <td>NaN</td>\n      <td>0.0</td>\n      <td>12.52/12.5</td>\n      <td>NaN</td>\n      <td>Synne Frydenlund</td>\n      <td>NaN</td>\n      <td>1</td>\n      <td>NaN</td>\n      <td>Harrow</td>\n      <td>Worthing</td>\n      <td>11 Aug 20</td>\n      <td>NaN</td>\n    </tr>\n    <tr>\n      <th>469</th>\n      <td>NaN</td>\n      <td>12.9</td>\n      <td>NaN</td>\n      <td>-0.7</td>\n      <td>13.06/12.8</td>\n      <td>NaN</td>\n      <td>Chiara Ramponi</td>\n      <td>U23</td>\n      <td>-2</td>\n      <td>Iheanyi Ihediwa</td>\n      <td>Trafford</td>\n      <td>Stretford</td>\n      <td>1 Aug 20</td>\n      <td>NaN</td>\n    </tr>\n  </tbody>\n</table>\n<p>470 rows × 14 columns</p>\n</div>"
     },
     "metadata": {}
    }
   ]
  },
  {
   "cell_type": "markdown",
   "source": "## Your task is to clean up the data and write the data into a new CSV file!\n> Tips and things to look out for below:\n\nGeneral\n+ Have a look at the [actual table](https://www.thepowerof10.info/rankings/rankinglist.aspx?event=100&agegroup=ALL&sex=W&year=2020) you are trying to scrape.\n+ Inspect and explore the raw dataframe, make a list of things you'll want to do and order or reorder them as you go along. It should help if you create a separate code cell for each step and version control your work once you have achieved something.\n\nDataFrame Specific\n+ The headers are actually on the 2nd row down.\n+ Start with the first column (the `Rank` column), there is alot you can clean up just by removing non numeric values ;)\n+ There is a section of Resident Non UK Athletes and their results at the end of the table you can ignore.\n+ Some athletes have more than one result (normally due to them having a windy time) and these wont have a value in the `Rank` column...you can ignore them.\n+ The `Date` data type is an ```object``` (string), you'll want a datatime object too.\n+ There are columns that you will want to keep but contain a lot of `NaN` values. Make sure you replace them with a ***default*** value (even an empty string `''`).\n+ There is no indication of `sport`, `event` or `gender`. Having a column with the same values for each row is better than having nothing that gives the data some context.\n\nTo start you off...\n+ You can inspect all unique values in the `Rank` column like so:",
   "metadata": {
    "tags": [],
    "cell_id": "00004-1c175b94-24e7-4603-bb38-458192d2586a",
    "output_cleared": false,
    "deepnote_cell_type": "markdown"
   }
  },
  {
   "cell_type": "code",
   "metadata": {
    "tags": [],
    "cell_id": "00005-ff794ef9-eda7-43e3-8cf1-c51520811ad4",
    "deepnote_to_be_reexecuted": false,
    "source_hash": "bff58425",
    "execution_start": 1620384736804,
    "execution_millis": 61,
    "deepnote_cell_type": "code"
   },
   "source": "data_table = dfs[3]\n\n#Drop non-numeric values in rank column\ndata_table = data_table[\n    data_table[0].apply(lambda row:str(row).isnumeric())]\n\n# Drop Columns First\ndata_table = data_table.drop(columns=[2,3,4,5,8,13])\n\n#rename headers\ndata_table.columns = ['Rank','Result','Athlete','Age Group','Coach', 'Club','Location','Date']\n\n# Deal with missing values (fill nan values in Age Group and Coach columns)\ndata_table['Age Group'] = data_table['Age Group'].fillna(value='Senior')\ndata_table['Coach'] = data_table['Coach'].fillna(value='N/A')\n\n# Turn Date into Date Object\n#https://docs.python.org/3/library/datetime.html#strftime-and-strptime-behavior\n\ndata_table['Date Time'] = pandas.to_datetime(data_table['Date'], format='%d %b %y')\n\n# Change Data type of Result (string and numeric)\ndata_table['Result float'] = data_table['Result'].apply(lambda row: float(row))\n\n#Sort by date/time\n\ndata_table.sort_values('Date Time')\n",
   "execution_count": null,
   "outputs": [
    {
     "output_type": "execute_result",
     "execution_count": 46,
     "data": {
      "application/vnd.deepnote.dataframe.v2+json": {
       "row_count": 349,
       "column_count": 10,
       "columns": [
        {
         "name": "Rank",
         "dtype": "object",
         "stats": {
          "unique_count": 130,
          "nan_count": 0,
          "categories": [
           {
            "name": "295",
            "count": 11
           },
           {
            "name": "249",
            "count": 10
           },
           {
            "name": "128 others",
            "count": 328
           }
          ]
         }
        },
        {
         "name": "Result",
         "dtype": "object",
         "stats": {
          "unique_count": 130,
          "nan_count": 0,
          "categories": [
           {
            "name": "13.1",
            "count": 11
           },
           {
            "name": "13.0",
            "count": 10
           },
           {
            "name": "128 others",
            "count": 328
           }
          ]
         }
        },
        {
         "name": "Athlete",
         "dtype": "object",
         "stats": {
          "unique_count": 349,
          "nan_count": 0,
          "categories": [
           {
            "name": "Megan Loney",
            "count": 1
           },
           {
            "name": "Rebecca Ousby",
            "count": 1
           },
           {
            "name": "347 others",
            "count": 347
           }
          ]
         }
        },
        {
         "name": "Age Group",
         "dtype": "object",
         "stats": {
          "unique_count": 7,
          "nan_count": 0,
          "categories": [
           {
            "name": "U17",
            "count": 112
           },
           {
            "name": "U20",
            "count": 86
           },
           {
            "name": "5 others",
            "count": 151
           }
          ]
         }
        },
        {
         "name": "Coach",
         "dtype": "object",
         "stats": {
          "unique_count": 165,
          "nan_count": 0,
          "categories": [
           {
            "name": "N/A",
            "count": 112
           },
           {
            "name": "Paul Weston",
            "count": 9
           },
           {
            "name": "163 others",
            "count": 228
           }
          ]
         }
        },
        {
         "name": "Club",
         "dtype": "object",
         "stats": {
          "unique_count": 150,
          "nan_count": 0,
          "categories": [
           {
            "name": "Gateshead",
            "count": 16
           },
           {
            "name": "Croydon",
            "count": 11
           },
           {
            "name": "148 others",
            "count": 322
           }
          ]
         }
        },
        {
         "name": "Location",
         "dtype": "object",
         "stats": {
          "unique_count": 57,
          "nan_count": 0,
          "categories": [
           {
            "name": "Nuneaton",
            "count": 36
           },
           {
            "name": "Stretford",
            "count": 35
           },
           {
            "name": "55 others",
            "count": 278
           }
          ]
         }
        },
        {
         "name": "Date",
         "dtype": "object",
         "stats": {
          "unique_count": 46,
          "nan_count": 0,
          "categories": [
           {
            "name": "23 Aug 20",
            "count": 30
           },
           {
            "name": "29 Aug 20",
            "count": 28
           },
           {
            "name": "44 others",
            "count": 291
           }
          ]
         }
        },
        {
         "name": "Date Time",
         "dtype": "datetime64[ns]",
         "stats": {
          "unique_count": 46,
          "nan_count": 0,
          "min": "2020-03-07 00:00:00",
          "max": "2020-10-17 00:00:00",
          "histogram": [
           {
            "bin_start": 1583539200000000000,
            "bin_end": 1585474560000000000,
            "count": 3
           },
           {
            "bin_start": 1585474560000000000,
            "bin_end": 1587409920000000000,
            "count": 0
           },
           {
            "bin_start": 1587409920000000000,
            "bin_end": 1589345280000000000,
            "count": 0
           },
           {
            "bin_start": 1589345280000000000,
            "bin_end": 1591280640000000000,
            "count": 0
           },
           {
            "bin_start": 1591280640000000000,
            "bin_end": 1593216000000000000,
            "count": 0
           },
           {
            "bin_start": 1593216000000000000,
            "bin_end": 1595151360000000000,
            "count": 11
           },
           {
            "bin_start": 1595151360000000000,
            "bin_end": 1597086720000000000,
            "count": 43
           },
           {
            "bin_start": 1597086720000000000,
            "bin_end": 1599022080000000000,
            "count": 166
           },
           {
            "bin_start": 1599022080000000000,
            "bin_end": 1600957440000000000,
            "count": 103
           },
           {
            "bin_start": 1600957440000000000,
            "bin_end": 1602892800000000000,
            "count": 23
           }
          ]
         }
        },
        {
         "name": "Result float",
         "dtype": "float64",
         "stats": {
          "unique_count": 120,
          "nan_count": 0,
          "min": "11.16",
          "max": "13.2",
          "histogram": [
           {
            "bin_start": 11.16,
            "bin_end": 11.364,
            "count": 3
           },
           {
            "bin_start": 11.364,
            "bin_end": 11.568,
            "count": 1
           },
           {
            "bin_start": 11.568,
            "bin_end": 11.772,
            "count": 3
           },
           {
            "bin_start": 11.772,
            "bin_end": 11.975999999999999,
            "count": 13
           },
           {
            "bin_start": 11.975999999999999,
            "bin_end": 12.18,
            "count": 17
           },
           {
            "bin_start": 12.18,
            "bin_end": 12.384,
            "count": 30
           },
           {
            "bin_start": 12.384,
            "bin_end": 12.588,
            "count": 37
           },
           {
            "bin_start": 12.588,
            "bin_end": 12.792,
            "count": 53
           },
           {
            "bin_start": 12.792,
            "bin_end": 12.995999999999999,
            "count": 87
           },
           {
            "bin_start": 12.995999999999999,
            "bin_end": 13.2,
            "count": 105
           }
          ]
         }
        },
        {
         "name": "_deepnote_index_column",
         "dtype": "int64"
        }
       ],
       "rows_top": [
        {
         "Rank": "249",
         "Result": "13.0",
         "Athlete": "Megan Loney",
         "Age Group": "U23",
         "Coach": "Geoffrey Barraclough",
         "Club": "City of York",
         "Location": "Lancaster",
         "Date": "7 Mar 20",
         "Date Time": "2020-03-07T00:00:00.000000",
         "Result float": 13,
         "_deepnote_index_column": 336
        },
        {
         "Rank": "340",
         "Result": "13.2",
         "Athlete": "Rebecca Ousby",
         "Age Group": "U23",
         "Coach": "Julie Alexander",
         "Club": "Team Bath",
         "Location": "Lancaster",
         "Date": "7 Mar 20",
         "Date Time": "2020-03-07T00:00:00.000000",
         "Result float": 13.2,
         "_deepnote_index_column": 449
        },
        {
         "Rank": "202",
         "Result": "12.9",
         "Athlete": "Kendrea Nwaelene",
         "Age Group": "U23",
         "Coach": "Geraldine Heapy",
         "Club": "Thurrock",
         "Location": "Lancaster",
         "Date": "7 Mar 20",
         "Date Time": "2020-03-07T00:00:00.000000",
         "Result float": 12.9,
         "_deepnote_index_column": 282
        },
        {
         "Rank": "119",
         "Result": "12.65",
         "Athlete": "Indi Gallagher",
         "Age Group": "U23",
         "Coach": "Dale Garland",
         "Club": "Guernsey",
         "Location": "St. Peter Port",
         "Date": "28 Jun 20",
         "Date Time": "2020-06-28T00:00:00.000000",
         "Result float": 12.65,
         "_deepnote_index_column": 166
        },
        {
         "Rank": "340",
         "Result": "13.2",
         "Athlete": "Katie Le Rougetel",
         "Age Group": "U17",
         "Coach": "N/A",
         "Club": "Jersey",
         "Location": "St. Clement",
         "Date": "7 Jul 20",
         "Date Time": "2020-07-07T00:00:00.000000",
         "Result float": 13.2,
         "_deepnote_index_column": 450
        },
        {
         "Rank": "55",
         "Result": "12.33",
         "Athlete": "Ellen Barber",
         "Age Group": "Senior",
         "Coach": "David Feeney",
         "Club": "Yeovil",
         "Location": "Nuneaton",
         "Date": "12 Jul 20",
         "Date Time": "2020-07-12T00:00:00.000000",
         "Result float": 12.33,
         "_deepnote_index_column": 85
        },
        {
         "Rank": "68",
         "Result": "12.39",
         "Athlete": "Jessica Taylor-Jemmett",
         "Age Group": "Senior",
         "Coach": "Rafer Joseph",
         "Club": "Sale Harriers Manchester",
         "Location": "Stretford",
         "Date": "12 Jul 20",
         "Date Time": "2020-07-12T00:00:00.000000",
         "Result float": 12.39,
         "_deepnote_index_column": 100
        },
        {
         "Rank": "156",
         "Result": "12.78",
         "Athlete": "Lucy Elcock",
         "Age Group": "U20",
         "Coach": "N/A",
         "Club": "Telford AC",
         "Location": "Nuneaton",
         "Date": "12 Jul 20",
         "Date Time": "2020-07-12T00:00:00.000000",
         "Result float": 12.78,
         "_deepnote_index_column": 220
        },
        {
         "Rank": "235",
         "Result": "12.98",
         "Athlete": "Imogen Sheppard",
         "Age Group": "U20",
         "Coach": "Michael Sheppard",
         "Club": "Stratford-upon-Avon",
         "Location": "Nuneaton",
         "Date": "12 Jul 20",
         "Date Time": "2020-07-12T00:00:00.000000",
         "Result float": 12.98,
         "_deepnote_index_column": 320
        },
        {
         "Rank": "17",
         "Result": "11.95",
         "Athlete": "Rebecca Chapman",
         "Age Group": "Senior",
         "Coach": "N/A",
         "Club": "Cardiff",
         "Location": "Marsa, MLT",
         "Date": "18 Jul 20",
         "Date Time": "2020-07-18T00:00:00.000000",
         "Result float": 11.95,
         "_deepnote_index_column": 29
        },
        {
         "Rank": "108",
         "Result": "12.60",
         "Athlete": "Emily Knox",
         "Age Group": "U17",
         "Coach": "N/A",
         "Club": "Coventry",
         "Location": "Nuneaton",
         "Date": "19 Jul 20",
         "Date Time": "2020-07-19T00:00:00.000000",
         "Result float": 12.6,
         "_deepnote_index_column": 150
        },
        {
         "Rank": "329",
         "Result": "13.18",
         "Athlete": "Rebecca Littler",
         "Age Group": "U15",
         "Coach": "N/A",
         "Club": "Rugby & Northampton",
         "Location": "Nuneaton",
         "Date": "19 Jul 20",
         "Date Time": "2020-07-19T00:00:00.000000",
         "Result float": 13.18,
         "_deepnote_index_column": 436
        },
        {
         "Rank": "173",
         "Result": "12.84",
         "Athlete": "Phoebe Clayton",
         "Age Group": "U15",
         "Coach": "N/A",
         "Club": "Rushcliffe",
         "Location": "Nuneaton",
         "Date": "19 Jul 20",
         "Date Time": "2020-07-19T00:00:00.000000",
         "Result float": 12.84,
         "_deepnote_index_column": 241
        },
        {
         "Rank": "72",
         "Result": "12.43",
         "Athlete": "Ella Rush",
         "Age Group": "U17",
         "Coach": "Michael Baker",
         "Club": "Amber Valley & Erewash",
         "Location": "Nuneaton",
         "Date": "19 Jul 20",
         "Date Time": "2020-07-19T00:00:00.000000",
         "Result float": 12.43,
         "_deepnote_index_column": 105
        },
        {
         "Rank": "316",
         "Result": "13.14",
         "Athlete": "Erin Fisher",
         "Age Group": "U20",
         "Coach": "James Alexander",
         "Club": "City of Lisburn",
         "Location": "Belfast",
         "Date": "30 Jul 20",
         "Date Time": "2020-07-30T00:00:00.000000",
         "Result float": 13.14,
         "_deepnote_index_column": 421
        },
        {
         "Rank": "126",
         "Result": "12.68",
         "Athlete": "Shona Vincent",
         "Age Group": "U17",
         "Coach": "Alan James",
         "Club": "Woodford Green Essex Ladies",
         "Location": "Lee Valley",
         "Date": "1 Aug 20",
         "Date Time": "2020-08-01T00:00:00.000000",
         "Result float": 12.68,
         "_deepnote_index_column": 181
        },
        {
         "Rank": "67",
         "Result": "12.38",
         "Athlete": "Abigail Pawlett",
         "Age Group": "U20",
         "Coach": "Joe Frost",
         "Club": "Stockport T&F",
         "Location": "Stretford",
         "Date": "1 Aug 20",
         "Date Time": "2020-08-01T00:00:00.000000",
         "Result float": 12.38,
         "_deepnote_index_column": 99
        },
        {
         "Rank": "122",
         "Result": "12.66",
         "Athlete": "Mia Smith",
         "Age Group": "U17",
         "Coach": "Courtney Clarke",
         "Club": "Hillingdon",
         "Location": "Lee Valley",
         "Date": "1 Aug 20",
         "Date Time": "2020-08-01T00:00:00.000000",
         "Result float": 12.66,
         "_deepnote_index_column": 171
        },
        {
         "Rank": "126",
         "Result": "12.68",
         "Athlete": "Chelsea Usideme",
         "Age Group": "U17",
         "Coach": "N/A",
         "Club": "London City AC",
         "Location": "Lee Valley",
         "Date": "1 Aug 20",
         "Date Time": "2020-08-01T00:00:00.000000",
         "Result float": 12.68,
         "_deepnote_index_column": 179
        },
        {
         "Rank": "320",
         "Result": "13.16",
         "Athlete": "Charlotte Seaton",
         "Age Group": "U17",
         "Coach": "N/A",
         "Club": "Woodford Green Essex Ladies",
         "Location": "Lee Valley",
         "Date": "1 Aug 20",
         "Date Time": "2020-08-01T00:00:00.000000",
         "Result float": 13.16,
         "_deepnote_index_column": 425
        },
        {
         "Rank": "118",
         "Result": "12.63",
         "Athlete": "Ninsola Adewale",
         "Age Group": "U17",
         "Coach": "N/A",
         "Club": "Croydon",
         "Location": "Lee Valley",
         "Date": "1 Aug 20",
         "Date Time": "2020-08-01T00:00:00.000000",
         "Result float": 12.63,
         "_deepnote_index_column": 164
        },
        {
         "Rank": "149",
         "Result": "12.74",
         "Athlete": "Natasha Harrison",
         "Age Group": "U20",
         "Coach": "Alex O'Gorman",
         "Club": "Stockport",
         "Location": "Stretford",
         "Date": "1 Aug 20",
         "Date Time": "2020-08-01T00:00:00.000000",
         "Result float": 12.74,
         "_deepnote_index_column": 212
        },
        {
         "Rank": "310",
         "Result": "13.12",
         "Athlete": "Tosin Jokosenumi",
         "Age Group": "U15",
         "Coach": "Ty Holden",
         "Club": "Shaftesbury Barnet",
         "Location": "Lee Valley",
         "Date": "1 Aug 20",
         "Date Time": "2020-08-01T00:00:00.000000",
         "Result float": 13.12,
         "_deepnote_index_column": 414
        },
        {
         "Rank": "105",
         "Result": "12.59",
         "Athlete": "Alexia Saunders",
         "Age Group": "U17",
         "Coach": "Ty Holden",
         "Club": "Shaftesbury Barnet",
         "Location": "Lee Valley",
         "Date": "1 Aug 20",
         "Date Time": "2020-08-01T00:00:00.000000",
         "Result float": 12.59,
         "_deepnote_index_column": 146
        },
        {
         "Rank": "331",
         "Result": "13.19",
         "Athlete": "Semi Atiba",
         "Age Group": "U17",
         "Coach": "Ty Holden",
         "Club": "Shaftesbury Barnet",
         "Location": "Lee Valley",
         "Date": "1 Aug 20",
         "Date Time": "2020-08-01T00:00:00.000000",
         "Result float": 13.19,
         "_deepnote_index_column": 439
        },
        {
         "Rank": "169",
         "Result": "12.83",
         "Athlete": "Regan Walker",
         "Age Group": "U23",
         "Coach": "John Smith",
         "Club": "Sale Harriers Manchester",
         "Location": "Stretford",
         "Date": "1 Aug 20",
         "Date Time": "2020-08-01T00:00:00.000000",
         "Result float": 12.83,
         "_deepnote_index_column": 235
        },
        {
         "Rank": "39",
         "Result": "12.19",
         "Athlete": "Trezeguet Taylor",
         "Age Group": "U17",
         "Coach": "Andrew Wood",
         "Club": "Trafford",
         "Location": "Stretford",
         "Date": "1 Aug 20",
         "Date Time": "2020-08-01T00:00:00.000000",
         "Result float": 12.19,
         "_deepnote_index_column": 64
        },
        {
         "Rank": "84",
         "Result": "12.49",
         "Athlete": "Niah Akintokun",
         "Age Group": "U15",
         "Coach": "Ty Holden",
         "Club": "Shaftesbury Barnet",
         "Location": "Lee Valley",
         "Date": "1 Aug 20",
         "Date Time": "2020-08-01T00:00:00.000000",
         "Result float": 12.49,
         "_deepnote_index_column": 120
        },
        {
         "Rank": "335",
         "Result": "13.20",
         "Athlete": "Chimira Matthews",
         "Age Group": "U17",
         "Coach": "N/A",
         "Club": "Ealing Southall & Middx",
         "Location": "Lee Valley",
         "Date": "1 Aug 20",
         "Date Time": "2020-08-01T00:00:00.000000",
         "Result float": 13.2,
         "_deepnote_index_column": 443
        },
        {
         "Rank": "224",
         "Result": "12.95",
         "Athlete": "Kirsty Treglown",
         "Age Group": "U17",
         "Coach": "N/A",
         "Club": "Reading AC",
         "Location": "Lee Valley",
         "Date": "1 Aug 20",
         "Date Time": "2020-08-01T00:00:00.000000",
         "Result float": 12.95,
         "_deepnote_index_column": 308
        },
        {
         "Rank": "195",
         "Result": "12.89",
         "Athlete": "Mya Green",
         "Age Group": "U17",
         "Coach": "N/A",
         "Club": "Harrow",
         "Location": "Lee Valley",
         "Date": "1 Aug 20",
         "Date Time": "2020-08-01T00:00:00.000000",
         "Result float": 12.89,
         "_deepnote_index_column": 272
        },
        {
         "Rank": "262",
         "Result": "13.02",
         "Athlete": "Lucy Poole",
         "Age Group": "U15",
         "Coach": "Gary Tunstall",
         "Club": "Preston",
         "Location": "Stretford",
         "Date": "1 Aug 20",
         "Date Time": "2020-08-01T00:00:00.000000",
         "Result float": 13.02,
         "_deepnote_index_column": 355
        },
        {
         "Rank": "126",
         "Result": "12.68",
         "Athlete": "Jasmine Clark",
         "Age Group": "U20",
         "Coach": "Mike Bennett",
         "Club": "Trafford",
         "Location": "Stretford",
         "Date": "1 Aug 20",
         "Date Time": "2020-08-01T00:00:00.000000",
         "Result float": 12.68,
         "_deepnote_index_column": 183
        },
        {
         "Rank": "270",
         "Result": "13.04",
         "Athlete": "Julie-Anne Boachie",
         "Age Group": "U17",
         "Coach": "N/A",
         "Club": "Harrow",
         "Location": "Lee Valley",
         "Date": "1 Aug 20",
         "Date Time": "2020-08-01T00:00:00.000000",
         "Result float": 13.04,
         "_deepnote_index_column": 365
        },
        {
         "Rank": "49",
         "Result": "12.30",
         "Athlete": "Kaliyah Young",
         "Age Group": "U20",
         "Coach": "Clarence Callender",
         "Club": "Blackheath & Bromley",
         "Location": "Lee Valley",
         "Date": "2 Aug 20",
         "Date Time": "2020-08-02T00:00:00.000000",
         "Result float": 12.3,
         "_deepnote_index_column": 78
        },
        {
         "Rank": "50",
         "Result": "12.31",
         "Athlete": "Charlotte Ogden",
         "Age Group": "Senior",
         "Coach": "N/A",
         "Club": "Harrow",
         "Location": "Lee Valley",
         "Date": "2 Aug 20",
         "Date Time": "2020-08-02T00:00:00.000000",
         "Result float": 12.31,
         "_deepnote_index_column": 79
        },
        {
         "Rank": "145",
         "Result": "12.72",
         "Athlete": "Vicky Mann",
         "Age Group": "U23",
         "Coach": "Tom Druce",
         "Club": "Guernsey",
         "Location": "St. Peter Port",
         "Date": "2 Aug 20",
         "Date Time": "2020-08-02T00:00:00.000000",
         "Result float": 12.72,
         "_deepnote_index_column": 206
        },
        {
         "Rank": "259",
         "Result": "13.01",
         "Athlete": "Joy Lisney",
         "Age Group": "Senior",
         "Coach": "Hayley Ginn",
         "Club": "Cambridge Uni",
         "Location": "Lee Valley",
         "Date": "2 Aug 20",
         "Date Time": "2020-08-02T00:00:00.000000",
         "Result float": 13.01,
         "_deepnote_index_column": 351
        },
        {
         "Rank": "63",
         "Result": "12.36",
         "Athlete": "Molly Palmer",
         "Age Group": "U20",
         "Coach": "Lukasz Zawila",
         "Club": "Charnwood",
         "Location": "Nuneaton",
         "Date": "2 Aug 20",
         "Date Time": "2020-08-02T00:00:00.000000",
         "Result float": 12.36,
         "_deepnote_index_column": 95
        },
        {
         "Rank": "136",
         "Result": "12.70",
         "Athlete": "Rhiannon Gayle",
         "Age Group": "U20",
         "Coach": "Paul Weston",
         "Club": "Croydon",
         "Location": "Lee Valley",
         "Date": "2 Aug 20",
         "Date Time": "2020-08-02T00:00:00.000000",
         "Result float": 12.7,
         "_deepnote_index_column": 193
        },
        {
         "Rank": "61",
         "Result": "12.35",
         "Athlete": "Hannah Foster",
         "Age Group": "U20",
         "Coach": "Craig Andrew",
         "Club": "Shaftesbury Barnet",
         "Location": "Lee Valley",
         "Date": "2 Aug 20",
         "Date Time": "2020-08-02T00:00:00.000000",
         "Result float": 12.35,
         "_deepnote_index_column": 92
        },
        {
         "Rank": "219",
         "Result": "12.93",
         "Athlete": "Nicole Alves",
         "Age Group": "U20",
         "Coach": "Carl Graham",
         "Club": "Woodford Green Essex Ladies",
         "Location": "Lee Valley",
         "Date": "2 Aug 20",
         "Date Time": "2020-08-02T00:00:00.000000",
         "Result float": 12.93,
         "_deepnote_index_column": 301
        },
        {
         "Rank": "158",
         "Result": "12.80",
         "Athlete": "Zoe Dake",
         "Age Group": "U20",
         "Coach": "Paul Weston",
         "Club": "Croydon",
         "Location": "Lee Valley",
         "Date": "2 Aug 20",
         "Date Time": "2020-08-02T00:00:00.000000",
         "Result float": 12.8,
         "_deepnote_index_column": 223
        },
        {
         "Rank": "165",
         "Result": "12.82",
         "Athlete": "Amelia Lees",
         "Age Group": "U20",
         "Coach": "Tom Druce",
         "Club": "Guernsey",
         "Location": "St. Peter Port",
         "Date": "2 Aug 20",
         "Date Time": "2020-08-02T00:00:00.000000",
         "Result float": 12.82,
         "_deepnote_index_column": 231
        },
        {
         "Rank": "208",
         "Result": "12.91",
         "Athlete": "Vanessa Ansuaa",
         "Age Group": "U20",
         "Coach": "Craig Andrew",
         "Club": "Shaftesbury Barnet",
         "Location": "Lee Valley",
         "Date": "2 Aug 20",
         "Date Time": "2020-08-02T00:00:00.000000",
         "Result float": 12.91,
         "_deepnote_index_column": 288
        },
        {
         "Rank": "39",
         "Result": "12.19",
         "Athlete": "Abi Galpin",
         "Age Group": "U23",
         "Coach": "Colin Bovell",
         "Club": "Guernsey",
         "Location": "St. Peter Port",
         "Date": "2 Aug 20",
         "Date Time": "2020-08-02T00:00:00.000000",
         "Result float": 12.19,
         "_deepnote_index_column": 65
        },
        {
         "Rank": "138",
         "Result": "12.7",
         "Athlete": "Georgia Silcox",
         "Age Group": "U23",
         "Coach": "Colin Bovell",
         "Club": "Yeovil",
         "Location": "Taunton",
         "Date": "4 Aug 20",
         "Date Time": "2020-08-04T00:00:00.000000",
         "Result float": 12.7,
         "_deepnote_index_column": 195
        },
        {
         "Rank": "295",
         "Result": "13.1",
         "Athlete": "Isabel Breeden",
         "Age Group": "U20",
         "Coach": "N/A",
         "Club": "Cardiff",
         "Location": "Taunton",
         "Date": "4 Aug 20",
         "Date Time": "2020-08-04T00:00:00.000000",
         "Result float": 13.1,
         "_deepnote_index_column": 396
        },
        {
         "Rank": "202",
         "Result": "12.9",
         "Athlete": "Seren Rodgers",
         "Age Group": "U17",
         "Coach": "Steve Shaw",
         "Club": "Taunton",
         "Location": "Taunton",
         "Date": "4 Aug 20",
         "Date Time": "2020-08-04T00:00:00.000000",
         "Result float": 12.9,
         "_deepnote_index_column": 283
        },
        {
         "Rank": "249",
         "Result": "13.0",
         "Athlete": "Katie Chapman",
         "Age Group": "U17",
         "Coach": "Rebecca Chapman",
         "Club": "Exeter",
         "Location": "Taunton",
         "Date": "4 Aug 20",
         "Date Time": "2020-08-04T00:00:00.000000",
         "Result float": 13,
         "_deepnote_index_column": 337
        }
       ],
       "rows_bottom": [
        {
         "Rank": "216",
         "Result": "12.92",
         "Athlete": "Amelia Watling",
         "Age Group": "U17",
         "Coach": "N/A",
         "Club": "City of Salisbury",
         "Location": "Yate",
         "Date": "13 Sep 20",
         "Date Time": "2020-09-13T00:00:00.000000",
         "Result float": 12.92,
         "_deepnote_index_column": 299
        },
        {
         "Rank": "195",
         "Result": "12.89",
         "Athlete": "Katie Robbins",
         "Age Group": "U23",
         "Coach": "Jeremy Dale",
         "Club": "Yate",
         "Location": "Yate",
         "Date": "13 Sep 20",
         "Date Time": "2020-09-13T00:00:00.000000",
         "Result float": 12.89,
         "_deepnote_index_column": 278
        },
        {
         "Rank": "224",
         "Result": "12.95",
         "Athlete": "Tottie Taylor",
         "Age Group": "U17",
         "Coach": "Alan Richardson",
         "Club": "Mendip",
         "Location": "Yate",
         "Date": "13 Sep 20",
         "Date Time": "2020-09-13T00:00:00.000000",
         "Result float": 12.95,
         "_deepnote_index_column": 312
        },
        {
         "Rank": "229",
         "Result": "12.96",
         "Athlete": "Charlotte Longden",
         "Age Group": "U20",
         "Coach": "Julie Alexander",
         "Club": "Team Bath",
         "Location": "Yate",
         "Date": "13 Sep 20",
         "Date Time": "2020-09-13T00:00:00.000000",
         "Result float": 12.96,
         "_deepnote_index_column": 314
        },
        {
         "Rank": "230",
         "Result": "12.97",
         "Athlete": "Abbie Sillett",
         "Age Group": "U20",
         "Coach": "N/A",
         "Club": "Bracknell AC",
         "Location": "Yate",
         "Date": "13 Sep 20",
         "Date Time": "2020-09-13T00:00:00.000000",
         "Result float": 12.97,
         "_deepnote_index_column": 319
        },
        {
         "Rank": "335",
         "Result": "13.20",
         "Athlete": "Sophie Wallwork",
         "Age Group": "U17",
         "Coach": "Dave Combe",
         "Club": "Pitreavie",
         "Location": "Meadowmill",
         "Date": "13 Sep 20",
         "Date Time": "2020-09-13T00:00:00.000000",
         "Result float": 13.2,
         "_deepnote_index_column": 447
        },
        {
         "Rank": "235",
         "Result": "12.98",
         "Athlete": "Jessica Lister",
         "Age Group": "U20",
         "Coach": "David Buckett",
         "Club": "Crawley",
         "Location": "Crawley",
         "Date": "13 Sep 20",
         "Date Time": "2020-09-13T00:00:00.000000",
         "Result float": 12.98,
         "_deepnote_index_column": 323
        },
        {
         "Rank": "143",
         "Result": "12.71",
         "Athlete": "Maddy Silcock",
         "Age Group": "U23",
         "Coach": "Dave Lease",
         "Club": "Banchory Stonehaven",
         "Location": "Yate",
         "Date": "13 Sep 20",
         "Date Time": "2020-09-13T00:00:00.000000",
         "Result float": 12.71,
         "_deepnote_index_column": 204
        },
        {
         "Rank": "143",
         "Result": "12.71",
         "Athlete": "Adeline Preston",
         "Age Group": "U20",
         "Coach": "Richard Edwards",
         "Club": "Crawley",
         "Location": "Crawley",
         "Date": "13 Sep 20",
         "Date Time": "2020-09-13T00:00:00.000000",
         "Result float": 12.71,
         "_deepnote_index_column": 203
        },
        {
         "Rank": "41",
         "Result": "12.20",
         "Athlete": "Jenna Blundell",
         "Age Group": "U20",
         "Coach": "Antonio Minichiello",
         "Club": "Bristol & West",
         "Location": "Yate",
         "Date": "13 Sep 20",
         "Date Time": "2020-09-13T00:00:00.000000",
         "Result float": 12.2,
         "_deepnote_index_column": 67
        },
        {
         "Rank": "266",
         "Result": "13.03",
         "Athlete": "Lili Fern",
         "Age Group": "U17",
         "Coach": "N/A",
         "Club": "City of Plymouth",
         "Location": "Braunton",
         "Date": "13 Sep 20",
         "Date Time": "2020-09-13T00:00:00.000000",
         "Result float": 13.03,
         "_deepnote_index_column": 363
        },
        {
         "Rank": "270",
         "Result": "13.04",
         "Athlete": "Lili Parker",
         "Age Group": "U20",
         "Coach": "Daniel Brooker",
         "Club": "Brighton & Hove",
         "Location": "Yate",
         "Date": "13 Sep 20",
         "Date Time": "2020-09-13T00:00:00.000000",
         "Result float": 13.04,
         "_deepnote_index_column": 368
        },
        {
         "Rank": "262",
         "Result": "13.02",
         "Athlete": "Eden Robinson",
         "Age Group": "U15",
         "Coach": "N/A",
         "Club": "Invicta East Kent",
         "Location": "Braunton",
         "Date": "13 Sep 20",
         "Date Time": "2020-09-13T00:00:00.000000",
         "Result float": 13.02,
         "_deepnote_index_column": 359
        },
        {
         "Rank": "249",
         "Result": "13.0",
         "Athlete": "Hayden Pister",
         "Age Group": "U20",
         "Coach": "N/A",
         "Club": "Jersey",
         "Location": "St. Clement",
         "Date": "15 Sep 20",
         "Date Time": "2020-09-15T00:00:00.000000",
         "Result float": 13,
         "_deepnote_index_column": 342
        },
        {
         "Rank": "161",
         "Result": "12.8",
         "Athlete": "Anna Lashley",
         "Age Group": "U20",
         "Coach": "Gordon Crowe",
         "Club": "Northern (Isle of Man)",
         "Location": "Douglas",
         "Date": "16 Sep 20",
         "Date Time": "2020-09-16T00:00:00.000000",
         "Result float": 12.8,
         "_deepnote_index_column": 229
        },
        {
         "Rank": "179",
         "Result": "12.85",
         "Athlete": "Jasmine Wilkins",
         "Age Group": "U17",
         "Coach": "N/A",
         "Club": "Bedford & County",
         "Location": "Loughborough",
         "Date": "16 Sep 20",
         "Date Time": "2020-09-16T00:00:00.000000",
         "Result float": 12.85,
         "_deepnote_index_column": 256
        },
        {
         "Rank": "295",
         "Result": "13.1",
         "Athlete": "Lydia Morris",
         "Age Group": "U20",
         "Coach": "Martin Bullock",
         "Club": "Manx",
         "Location": "Douglas",
         "Date": "16 Sep 20",
         "Date Time": "2020-09-16T00:00:00.000000",
         "Result float": 13.1,
         "_deepnote_index_column": 407
        },
        {
         "Rank": "98",
         "Result": "12.56",
         "Athlete": "Tianna Haynes",
         "Age Group": "U17",
         "Coach": "N/A",
         "Club": "Blackheath & Bromley",
         "Location": "Bromley",
         "Date": "18 Sep 20",
         "Date Time": "2020-09-18T00:00:00.000000",
         "Result float": 12.56,
         "_deepnote_index_column": 138
        },
        {
         "Rank": "340",
         "Result": "13.2",
         "Athlete": "Kate Richardson",
         "Age Group": "U15",
         "Coach": "N/A",
         "Club": "Pitreavie",
         "Location": "Dunfermline",
         "Date": "20 Sep 20",
         "Date Time": "2020-09-20T00:00:00.000000",
         "Result float": 13.2,
         "_deepnote_index_column": 455
        },
        {
         "Rank": "340",
         "Result": "13.2",
         "Athlete": "Lynn Harvey",
         "Age Group": "U20",
         "Coach": "N/A",
         "Club": "Pitreavie",
         "Location": "Dunfermline",
         "Date": "20 Sep 20",
         "Date Time": "2020-09-20T00:00:00.000000",
         "Result float": 13.2,
         "_deepnote_index_column": 456
        },
        {
         "Rank": "202",
         "Result": "12.9",
         "Athlete": "Sarah Duff",
         "Age Group": "U20",
         "Coach": "Francis Smith",
         "Club": "Pitreavie",
         "Location": "Dunfermline",
         "Date": "20 Sep 20",
         "Date Time": "2020-09-20T00:00:00.000000",
         "Result float": 12.9,
         "_deepnote_index_column": 286
        },
        {
         "Rank": "216",
         "Result": "12.92",
         "Athlete": "Natalya Aspinall",
         "Age Group": "U17",
         "Coach": "Karen Buck",
         "Club": "City of York",
         "Location": "Doncaster",
         "Date": "20 Sep 20",
         "Date Time": "2020-09-20T00:00:00.000000",
         "Result float": 12.92,
         "_deepnote_index_column": 300
        },
        {
         "Rank": "184",
         "Result": "12.86",
         "Athlete": "Charlotte Stamp",
         "Age Group": "U23",
         "Coach": "Geoffrey Barraclough",
         "Club": "City of York",
         "Location": "Doncaster",
         "Date": "20 Sep 20",
         "Date Time": "2020-09-20T00:00:00.000000",
         "Result float": 12.86,
         "_deepnote_index_column": 257
        },
        {
         "Rank": "161",
         "Result": "12.8",
         "Athlete": "Layla Zuill",
         "Age Group": "U17",
         "Coach": "Steven Doig",
         "Club": "Fife",
         "Location": "Dunfermline",
         "Date": "20 Sep 20",
         "Date Time": "2020-09-20T00:00:00.000000",
         "Result float": 12.8,
         "_deepnote_index_column": 230
        },
        {
         "Rank": "147",
         "Result": "12.73",
         "Athlete": "Charlotte Kelsey",
         "Age Group": "U17",
         "Coach": "Glynn Williams",
         "Club": "Middlesbrough (Mandale)",
         "Location": "Doncaster",
         "Date": "20 Sep 20",
         "Date Time": "2020-09-20T00:00:00.000000",
         "Result float": 12.73,
         "_deepnote_index_column": 210
        },
        {
         "Rank": "340",
         "Result": "13.2",
         "Athlete": "Zoe Payne",
         "Age Group": "U17",
         "Coach": "Alan Wymant",
         "Club": "Corby",
         "Location": "Corby",
         "Date": "22 Sep 20",
         "Date Time": "2020-09-22T00:00:00.000000",
         "Result float": 13.2,
         "_deepnote_index_column": 457
        },
        {
         "Rank": "249",
         "Result": "13.0",
         "Athlete": "Isabelle Skelton",
         "Age Group": "U17",
         "Coach": "Bill Boyd",
         "Club": "Corby",
         "Location": "Corby",
         "Date": "22 Sep 20",
         "Date Time": "2020-09-22T00:00:00.000000",
         "Result float": 13,
         "_deepnote_index_column": 344
        },
        {
         "Rank": "2",
         "Result": "11.27",
         "Athlete": "Kristal Awuah",
         "Age Group": "U23",
         "Coach": "Matthew Thomas",
         "Club": "Herne Hill",
         "Location": "Doha, QAT",
         "Date": "25 Sep 20",
         "Date Time": "2020-09-25T00:00:00.000000",
         "Result float": 11.27,
         "_deepnote_index_column": 3
        },
        {
         "Rank": "7",
         "Result": "11.74",
         "Athlete": "Cindy Sember",
         "Age Group": "Senior",
         "Coach": "N/A",
         "Club": "Woodford Green Essex Ladies",
         "Location": "Doha, QAT",
         "Date": "25 Sep 20",
         "Date Time": "2020-09-25T00:00:00.000000",
         "Result float": 11.74,
         "_deepnote_index_column": 12
        },
        {
         "Rank": "295",
         "Result": "13.1",
         "Athlete": "Althea Johnson",
         "Age Group": "U13",
         "Coach": "N/A",
         "Club": "Middlesbrough (Mandale)",
         "Location": "Darlington",
         "Date": "26 Sep 20",
         "Date Time": "2020-09-26T00:00:00.000000",
         "Result float": 13.1,
         "_deepnote_index_column": 408
        },
        {
         "Rank": "239",
         "Result": "12.99",
         "Athlete": "Temi Mustapha",
         "Age Group": "U20",
         "Coach": "N/A",
         "Club": "Lancaster & Morecambe",
         "Location": "Stretford",
         "Date": "26 Sep 20",
         "Date Time": "2020-09-26T00:00:00.000000",
         "Result float": 12.99,
         "_deepnote_index_column": 328
        },
        {
         "Rank": "249",
         "Result": "13.0",
         "Athlete": "Millie Wilkinson",
         "Age Group": "U13",
         "Coach": "Daniel Njai-Rowney",
         "Club": "Blyth",
         "Location": "Darlington",
         "Date": "26 Sep 20",
         "Date Time": "2020-09-26T00:00:00.000000",
         "Result float": 13,
         "_deepnote_index_column": 346
        },
        {
         "Rank": "249",
         "Result": "13.0",
         "Athlete": "Madeleine Liddell",
         "Age Group": "U15",
         "Coach": "Karen Storey",
         "Club": "Gateshead",
         "Location": "Darlington",
         "Date": "26 Sep 20",
         "Date Time": "2020-09-26T00:00:00.000000",
         "Result float": 13,
         "_deepnote_index_column": 348
        },
        {
         "Rank": "249",
         "Result": "13.0",
         "Athlete": "Samara Afonughe",
         "Age Group": "U15",
         "Coach": "N/A",
         "Club": "Aldershot, Farnham & District",
         "Location": "Aldershot",
         "Date": "26 Sep 20",
         "Date Time": "2020-09-26T00:00:00.000000",
         "Result float": 13,
         "_deepnote_index_column": 345
        },
        {
         "Rank": "138",
         "Result": "12.7",
         "Athlete": "Martha Wyatt",
         "Age Group": "U17",
         "Coach": "N/A",
         "Club": "Middlesbrough (Mandale)",
         "Location": "Darlington",
         "Date": "26 Sep 20",
         "Date Time": "2020-09-26T00:00:00.000000",
         "Result float": 12.7,
         "_deepnote_index_column": 202
        },
        {
         "Rank": "138",
         "Result": "12.7",
         "Athlete": "Katherine Bell",
         "Age Group": "U15",
         "Coach": "Geoffrey Fenwick",
         "Club": "Gateshead",
         "Location": "Darlington",
         "Date": "26 Sep 20",
         "Date Time": "2020-09-26T00:00:00.000000",
         "Result float": 12.7,
         "_deepnote_index_column": 200
        },
        {
         "Rank": "23",
         "Result": "12.00",
         "Athlete": "Sophie Walton",
         "Age Group": "U17",
         "Coach": "Trevor Williams",
         "Club": "Horwich",
         "Location": "Stretford",
         "Date": "26 Sep 20",
         "Date Time": "2020-09-26T00:00:00.000000",
         "Result float": 12,
         "_deepnote_index_column": 42
        },
        {
         "Rank": "26",
         "Result": "12.0",
         "Athlete": "Philippa Ellis",
         "Age Group": "U20",
         "Coach": "Geoffrey Fenwick",
         "Club": "Gateshead",
         "Location": "Darlington",
         "Date": "26 Sep 20",
         "Date Time": "2020-09-26T00:00:00.000000",
         "Result float": 12,
         "_deepnote_index_column": 43
        },
        {
         "Rank": "202",
         "Result": "12.9",
         "Athlete": "Mia Bailey",
         "Age Group": "U17",
         "Coach": "Keith Yellop",
         "Club": "City of Norwich",
         "Location": "Norwich",
         "Date": "26 Sep 20",
         "Date Time": "2020-09-26T00:00:00.000000",
         "Result float": 12.9,
         "_deepnote_index_column": 287
        },
        {
         "Rank": "98",
         "Result": "12.56",
         "Athlete": "Sarah Zintchem",
         "Age Group": "U20",
         "Coach": "Veronica Boden",
         "Club": "Hallamshire",
         "Location": "Stretford",
         "Date": "26 Sep 20",
         "Date Time": "2020-09-26T00:00:00.000000",
         "Result float": 12.56,
         "_deepnote_index_column": 139
        },
        {
         "Rank": "320",
         "Result": "13.16",
         "Athlete": "Emily Rankin",
         "Age Group": "U15",
         "Coach": "Gary Tunstall",
         "Club": "Preston",
         "Location": "Stretford",
         "Date": "26 Sep 20",
         "Date Time": "2020-09-26T00:00:00.000000",
         "Result float": 13.16,
         "_deepnote_index_column": 429
        },
        {
         "Rank": "96",
         "Result": "12.55",
         "Athlete": "Evie Noblett",
         "Age Group": "U15",
         "Coach": "Gary Tunstall",
         "Club": "Preston",
         "Location": "Stretford",
         "Date": "26 Sep 20",
         "Date Time": "2020-09-26T00:00:00.000000",
         "Result float": 12.55,
         "_deepnote_index_column": 137
        },
        {
         "Rank": "249",
         "Result": "13.0",
         "Athlete": "Isabelle Sharman",
         "Age Group": "U17",
         "Coach": "N/A",
         "Club": "Durham",
         "Location": "Darlington",
         "Date": "26 Sep 20",
         "Date Time": "2020-09-26T00:00:00.000000",
         "Result float": 13,
         "_deepnote_index_column": 350
        },
        {
         "Rank": "295",
         "Result": "13.1",
         "Athlete": "Alicja Gawronski",
         "Age Group": "U17",
         "Coach": "N/A",
         "Club": "Peterborough & Nene Valley",
         "Location": "Peterborough",
         "Date": "27 Sep 20",
         "Date Time": "2020-09-27T00:00:00.000000",
         "Result float": 13.1,
         "_deepnote_index_column": 409
        },
        {
         "Rank": "124",
         "Result": "12.67",
         "Athlete": "Susan Folorunso",
         "Age Group": "U17",
         "Coach": "N/A",
         "Club": "Gateshead",
         "Location": "Morpeth",
         "Date": "27 Sep 20",
         "Date Time": "2020-09-27T00:00:00.000000",
         "Result float": 12.67,
         "_deepnote_index_column": 176
        },
        {
         "Rank": "270",
         "Result": "13.04",
         "Athlete": "Alice Geoghegan",
         "Age Group": "U17",
         "Coach": "N/A",
         "Club": "Morpeth",
         "Location": "Morpeth",
         "Date": "27 Sep 20",
         "Date Time": "2020-09-27T00:00:00.000000",
         "Result float": 13.04,
         "_deepnote_index_column": 369
        },
        {
         "Rank": "239",
         "Result": "12.99",
         "Athlete": "Grace Lovell",
         "Age Group": "U23",
         "Coach": "Janice Kaufman",
         "Club": "Gateshead",
         "Location": "Morpeth",
         "Date": "27 Sep 20",
         "Date Time": "2020-09-27T00:00:00.000000",
         "Result float": 12.99,
         "_deepnote_index_column": 329
        },
        {
         "Rank": "224",
         "Result": "12.95",
         "Athlete": "Sienna Kidd",
         "Age Group": "U15",
         "Coach": "Diana Norman",
         "Club": "Epsom & Ewell",
         "Location": "Tooting Bec",
         "Date": "3 Oct 20",
         "Date Time": "2020-10-03T00:00:00.000000",
         "Result float": 12.95,
         "_deepnote_index_column": 313
        },
        {
         "Rank": "173",
         "Result": "12.84",
         "Athlete": "Ruby Jerges",
         "Age Group": "U17",
         "Coach": "Paul McKeown",
         "Club": "Crawley",
         "Location": "Lewes",
         "Date": "4 Oct 20",
         "Date Time": "2020-10-04T00:00:00.000000",
         "Result float": 12.84,
         "_deepnote_index_column": 248
        },
        {
         "Rank": "340",
         "Result": "13.2",
         "Athlete": "Eva Tyler",
         "Age Group": "U15",
         "Coach": "N/A",
         "Club": "Hereford",
         "Location": "Sutton Coldfield",
         "Date": "17 Oct 20",
         "Date Time": "2020-10-17T00:00:00.000000",
         "Result float": 13.2,
         "_deepnote_index_column": 458
        }
       ]
      },
      "text/plain": "    Rank Result            Athlete Age Group                 Coach  \\\n336  249   13.0        Megan Loney       U23  Geoffrey Barraclough   \n449  340   13.2      Rebecca Ousby       U23       Julie Alexander   \n282  202   12.9   Kendrea Nwaelene       U23       Geraldine Heapy   \n166  119  12.65     Indi Gallagher       U23          Dale Garland   \n450  340   13.2  Katie Le Rougetel       U17                   N/A   \n..   ...    ...                ...       ...                   ...   \n369  270  13.04    Alice Geoghegan       U17                   N/A   \n329  239  12.99       Grace Lovell       U23        Janice Kaufman   \n313  224  12.95        Sienna Kidd       U15          Diana Norman   \n248  173  12.84        Ruby Jerges       U17          Paul McKeown   \n458  340   13.2          Eva Tyler       U15                   N/A   \n\n              Club          Location       Date  Date Time  Result float  \n336   City of York         Lancaster   7 Mar 20 2020-03-07         13.00  \n449      Team Bath         Lancaster   7 Mar 20 2020-03-07         13.20  \n282       Thurrock         Lancaster   7 Mar 20 2020-03-07         12.90  \n166       Guernsey    St. Peter Port  28 Jun 20 2020-06-28         12.65  \n450         Jersey       St. Clement   7 Jul 20 2020-07-07         13.20  \n..             ...               ...        ...        ...           ...  \n369        Morpeth           Morpeth  27 Sep 20 2020-09-27         13.04  \n329      Gateshead           Morpeth  27 Sep 20 2020-09-27         12.99  \n313  Epsom & Ewell       Tooting Bec   3 Oct 20 2020-10-03         12.95  \n248        Crawley             Lewes   4 Oct 20 2020-10-04         12.84  \n458       Hereford  Sutton Coldfield  17 Oct 20 2020-10-17         13.20  \n\n[349 rows x 10 columns]",
      "text/html": "<div>\n<style scoped>\n    .dataframe tbody tr th:only-of-type {\n        vertical-align: middle;\n    }\n\n    .dataframe tbody tr th {\n        vertical-align: top;\n    }\n\n    .dataframe thead th {\n        text-align: right;\n    }\n</style>\n<table border=\"1\" class=\"dataframe\">\n  <thead>\n    <tr style=\"text-align: right;\">\n      <th></th>\n      <th>Rank</th>\n      <th>Result</th>\n      <th>Athlete</th>\n      <th>Age Group</th>\n      <th>Coach</th>\n      <th>Club</th>\n      <th>Location</th>\n      <th>Date</th>\n      <th>Date Time</th>\n      <th>Result float</th>\n    </tr>\n  </thead>\n  <tbody>\n    <tr>\n      <th>336</th>\n      <td>249</td>\n      <td>13.0</td>\n      <td>Megan Loney</td>\n      <td>U23</td>\n      <td>Geoffrey Barraclough</td>\n      <td>City of York</td>\n      <td>Lancaster</td>\n      <td>7 Mar 20</td>\n      <td>2020-03-07</td>\n      <td>13.00</td>\n    </tr>\n    <tr>\n      <th>449</th>\n      <td>340</td>\n      <td>13.2</td>\n      <td>Rebecca Ousby</td>\n      <td>U23</td>\n      <td>Julie Alexander</td>\n      <td>Team Bath</td>\n      <td>Lancaster</td>\n      <td>7 Mar 20</td>\n      <td>2020-03-07</td>\n      <td>13.20</td>\n    </tr>\n    <tr>\n      <th>282</th>\n      <td>202</td>\n      <td>12.9</td>\n      <td>Kendrea Nwaelene</td>\n      <td>U23</td>\n      <td>Geraldine Heapy</td>\n      <td>Thurrock</td>\n      <td>Lancaster</td>\n      <td>7 Mar 20</td>\n      <td>2020-03-07</td>\n      <td>12.90</td>\n    </tr>\n    <tr>\n      <th>166</th>\n      <td>119</td>\n      <td>12.65</td>\n      <td>Indi Gallagher</td>\n      <td>U23</td>\n      <td>Dale Garland</td>\n      <td>Guernsey</td>\n      <td>St. Peter Port</td>\n      <td>28 Jun 20</td>\n      <td>2020-06-28</td>\n      <td>12.65</td>\n    </tr>\n    <tr>\n      <th>450</th>\n      <td>340</td>\n      <td>13.2</td>\n      <td>Katie Le Rougetel</td>\n      <td>U17</td>\n      <td>N/A</td>\n      <td>Jersey</td>\n      <td>St. Clement</td>\n      <td>7 Jul 20</td>\n      <td>2020-07-07</td>\n      <td>13.20</td>\n    </tr>\n    <tr>\n      <th>...</th>\n      <td>...</td>\n      <td>...</td>\n      <td>...</td>\n      <td>...</td>\n      <td>...</td>\n      <td>...</td>\n      <td>...</td>\n      <td>...</td>\n      <td>...</td>\n      <td>...</td>\n    </tr>\n    <tr>\n      <th>369</th>\n      <td>270</td>\n      <td>13.04</td>\n      <td>Alice Geoghegan</td>\n      <td>U17</td>\n      <td>N/A</td>\n      <td>Morpeth</td>\n      <td>Morpeth</td>\n      <td>27 Sep 20</td>\n      <td>2020-09-27</td>\n      <td>13.04</td>\n    </tr>\n    <tr>\n      <th>329</th>\n      <td>239</td>\n      <td>12.99</td>\n      <td>Grace Lovell</td>\n      <td>U23</td>\n      <td>Janice Kaufman</td>\n      <td>Gateshead</td>\n      <td>Morpeth</td>\n      <td>27 Sep 20</td>\n      <td>2020-09-27</td>\n      <td>12.99</td>\n    </tr>\n    <tr>\n      <th>313</th>\n      <td>224</td>\n      <td>12.95</td>\n      <td>Sienna Kidd</td>\n      <td>U15</td>\n      <td>Diana Norman</td>\n      <td>Epsom &amp; Ewell</td>\n      <td>Tooting Bec</td>\n      <td>3 Oct 20</td>\n      <td>2020-10-03</td>\n      <td>12.95</td>\n    </tr>\n    <tr>\n      <th>248</th>\n      <td>173</td>\n      <td>12.84</td>\n      <td>Ruby Jerges</td>\n      <td>U17</td>\n      <td>Paul McKeown</td>\n      <td>Crawley</td>\n      <td>Lewes</td>\n      <td>4 Oct 20</td>\n      <td>2020-10-04</td>\n      <td>12.84</td>\n    </tr>\n    <tr>\n      <th>458</th>\n      <td>340</td>\n      <td>13.2</td>\n      <td>Eva Tyler</td>\n      <td>U15</td>\n      <td>N/A</td>\n      <td>Hereford</td>\n      <td>Sutton Coldfield</td>\n      <td>17 Oct 20</td>\n      <td>2020-10-17</td>\n      <td>13.20</td>\n    </tr>\n  </tbody>\n</table>\n<p>349 rows × 10 columns</p>\n</div>"
     },
     "metadata": {}
    }
   ]
  },
  {
   "cell_type": "code",
   "metadata": {
    "tags": [],
    "cell_id": "00004-f3166c4f-e8cc-4f16-88c7-c9b9781b8d6c",
    "deepnote_cell_type": "code"
   },
   "source": "",
   "execution_count": null,
   "outputs": []
  },
  {
   "cell_type": "code",
   "metadata": {
    "tags": [],
    "cell_id": "00004-9cbad70c-1b57-4736-8698-440beb7ee52a",
    "deepnote_cell_type": "code"
   },
   "source": "",
   "execution_count": null,
   "outputs": []
  },
  {
   "cell_type": "markdown",
   "source": "## Bonus Task! \n> Have this notebook ***automatically*** fetch the **Men and Women's 100m, 200m and 400m Rankings** on a single notebook run.\n\n+ Loops\n+ String Formatting\n+ Pay attention to URL when looking at different event/gender tables on Power10 Web Page.\n+ Your notebook should output a **separate** CSV file for each **gender/event**.  Make sure these CSV files are ***named*** accordingly.",
   "metadata": {
    "tags": [],
    "cell_id": "00006-9521bc04-6d82-41ab-a460-71fa38b75b4e",
    "deepnote_cell_type": "markdown"
   }
  },
  {
   "cell_type": "code",
   "metadata": {
    "tags": [],
    "cell_id": "00007-3cd6649e-72bb-4c5d-9f07-e1e3eb0ebdb6",
    "deepnote_to_be_reexecuted": false,
    "source_hash": "97d8cee5",
    "execution_start": 1620385470781,
    "execution_millis": 3428,
    "deepnote_cell_type": "code"
   },
   "source": "genders = ['W','M']\n\nfor gender in genders:\n    # Format URL\n    url = f'https://www.thepowerof10.info/rankings/rankinglist.aspx?event=100&agegroup=ALL&sex={gender}&year=2020'\n    # Perform Scrape\n    dfs = pandas.read_html(url, encoding=\"utf8\")\n    # Perform Clean\n    data_table = dfs[3]\n\n    #Drop non-numeric values in rank column\n    data_table = data_table[\n        data_table[0].apply(lambda row:str(row).isnumeric())]\n\n    # Drop Columns First\n    data_table = data_table.drop(columns=[2,3,4,5,8,13])\n\n    #rename headers\n    data_table.columns = ['Rank','Result','Athlete','Age Group','Coach', 'Club','Location','Date']\n\n    # Deal with missing values (fill nan values in Age Group and Coach columns)\n    data_table['Age Group'] = data_table['Age Group'].fillna(value='Senior')\n    data_table['Coach'] = data_table['Coach'].fillna(value='N/A')\n\n    # Turn Date into Date Object\n    #https://docs.python.org/3/library/datetime.html#strftime-and-strptime-behavior\n\n    data_table['Date Time'] = pandas.to_datetime(data_table['Date'], format='%d %b %y')\n\n    # Change Data type of Result (string and numeric)\n    data_table['Result float'] = data_table['Result'].apply(lambda row: float(row))\n\n    #Sort by date/time\n\n    data_table.sort_values('Date Time')\n    # Perform Output\n    data_table.to_csv(f'data_output({gender}).csv',index=False)",
   "execution_count": null,
   "outputs": []
  },
  {
   "cell_type": "markdown",
   "source": "#### \\[Optional\\] Make it a Script!\n> Turn your **bonus task** (with loop) into a **Python script**. \n\nYou can **run** the **script** via your project ***temrminal*** or via a ***code cell***...just remember the ***bang*** (`!`) infront of your terminal commands ***if*** running them via a code cell...e.g.",
   "metadata": {
    "tags": [],
    "cell_id": "00008-e2331349-ec7a-4229-aaec-736be99b80d0",
    "deepnote_cell_type": "markdown"
   }
  },
  {
   "cell_type": "code",
   "metadata": {
    "tags": [],
    "cell_id": "00007-7666c691-c7a8-4506-a7a1-a135540395a9",
    "deepnote_cell_type": "code"
   },
   "source": "# !python power10_scraper.py",
   "execution_count": null,
   "outputs": []
  },
  {
   "cell_type": "markdown",
   "source": "<a style='text-decoration:none;line-height:16px;display:flex;color:#5B5B62;padding:10px;justify-content:end;' href='https://deepnote.com?utm_source=created-in-deepnote-cell&projectId=2beaab81-cd42-442a-bc63-1f104addf671' target=\"_blank\">\n<img alt='Created in deepnote.com' style='display:inline;max-height:16px;margin:0px;margin-right:7.5px;' src='data:image/svg+xml;base64,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' > </img>\nCreated in <span style='font-weight:600;margin-left:4px;'>Deepnote</span></a>",
   "metadata": {
    "tags": [],
    "created_in_deepnote_cell": true,
    "deepnote_cell_type": "markdown"
   }
  }
 ],
 "nbformat": 4,
 "nbformat_minor": 2,
 "metadata": {
  "kernelspec": {
   "display_name": "Python 3",
   "language": "python",
   "name": "python3"
  },
  "language_info": {
   "codemirror_mode": {
    "name": "ipython",
    "version": 3
   },
   "file_extension": ".py",
   "mimetype": "text/x-python",
   "name": "python",
   "nbconvert_exporter": "python",
   "pygments_lexer": "ipython3",
   "version": "3.6.3"
  },
  "deepnote_notebook_id": "4507786a-bb02-4bec-b3a8-bdde19ee9c28",
  "deepnote_execution_queue": [],
  "deepnote": {}
 }
}